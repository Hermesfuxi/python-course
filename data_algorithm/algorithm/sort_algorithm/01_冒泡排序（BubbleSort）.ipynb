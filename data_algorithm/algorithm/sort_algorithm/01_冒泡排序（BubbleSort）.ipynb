{
 "cells": [
  {
   "cell_type": "code",
   "id": "initial_id",
   "metadata": {
    "collapsed": true,
    "ExecuteTime": {
     "end_time": "2025-03-29T03:56:38.266773Z",
     "start_time": "2025-03-29T03:56:38.261255Z"
    }
   },
   "source": [
    "# 选出最大值放到最右边：普通排序\n",
    "def bubbleSort_v1(arr):\n",
    "    n = len(arr)\n",
    "    for i in range(n):\n",
    "        for j in range(0, n - i - 1):\n",
    "            if arr[j] > arr[j + 1]:\n",
    "                arr[j], arr[j + 1] = arr[j + 1], arr[j]\n",
    "    return arr\n",
    "\n",
    "\n",
    "print(bubbleSort_v1([259, 190, 20, 100, 87, 134, 90]))"
   ],
   "outputs": [
    {
     "name": "stdout",
     "output_type": "stream",
     "text": [
      "[20, 87, 90, 100, 134, 190, 259]\n"
     ]
    }
   ],
   "execution_count": 1
  },
  {
   "metadata": {
    "ExecuteTime": {
     "end_time": "2025-03-29T07:46:06.005325Z",
     "start_time": "2025-03-29T07:46:05.999470Z"
    }
   },
   "cell_type": "code",
   "source": [
    "# 采用双向冒泡排序\n",
    "def bubbleSort_v2(arr):\n",
    "    n = len(arr)\n",
    "    if n <= 1:\n",
    "        return arr\n",
    "\n",
    "    left = 0\n",
    "    right = n - 1\n",
    "    while left < right:\n",
    "        # 确定最大值后，反向确定最小值，再反向确定最大值，如此不断折返\n",
    "        # 正向冒泡：最大值归于最右侧\n",
    "        last_swap = left  # 记录最后一次交换的位置\n",
    "        for i in range(left, right):\n",
    "            if arr[i] > arr[i + 1]:\n",
    "                arr[i], arr[i + 1] = arr[i + 1], arr[i]\n",
    "                # 记录最后交换可疑边界\n",
    "                last_swap = i\n",
    "\n",
    "        # 更新右边界\n",
    "        right = last_swap\n",
    "        # 如果没有交换，说明数组已有序\n",
    "        if left >= right:\n",
    "            break\n",
    "\n",
    "        # 若本身有序，不曾交换，则跳出.全程无交换说明已有序\n",
    "        last_swap = right  # 记录最后一次交换的位置\n",
    "        # 逆向冒泡：最小值归于最左侧\n",
    "        for i in range(right - 1, left, -1):\n",
    "            if arr[i] > arr[i - 1]:\n",
    "                arr[i], arr[i - 1] = arr[i - 1], arr[i]\n",
    "                # 记录最后交换边界\n",
    "                last_swap = i\n",
    "        # 更新左边界\n",
    "        left = last_swap\n",
    "    return arr\n",
    "\n",
    "\n",
    "print(bubbleSort_v1([259, 190, 20, 100, 87, 134, 90, 65, 654, 89, 54, 45, 87, 54, 8547, 48514, 84, 512, 5]))"
   ],
   "id": "381d6b36f4aaed5",
   "outputs": [
    {
     "name": "stdout",
     "output_type": "stream",
     "text": [
      "[5, 20, 45, 54, 54, 65, 84, 87, 87, 89, 90, 100, 134, 190, 259, 512, 654, 8547, 48514]\n"
     ]
    }
   ],
   "execution_count": 13
  },
  {
   "metadata": {},
   "cell_type": "code",
   "outputs": [],
   "execution_count": null,
   "source": "",
   "id": "41b7ecdc72ae4d21"
  }
 ],
 "metadata": {
  "kernelspec": {
   "display_name": "Python 3",
   "language": "python",
   "name": "python3"
  },
  "language_info": {
   "codemirror_mode": {
    "name": "ipython",
    "version": 2
   },
   "file_extension": ".py",
   "mimetype": "text/x-python",
   "name": "python",
   "nbconvert_exporter": "python",
   "pygments_lexer": "ipython2",
   "version": "2.7.6"
  }
 },
 "nbformat": 4,
 "nbformat_minor": 5
}
