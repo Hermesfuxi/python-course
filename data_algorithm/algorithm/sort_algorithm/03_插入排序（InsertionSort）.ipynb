{
 "cells": [
  {
   "cell_type": "code",
   "id": "initial_id",
   "metadata": {
    "collapsed": true,
    "ExecuteTime": {
     "end_time": "2025-03-29T05:19:30.270814Z",
     "start_time": "2025-03-29T05:19:30.266437Z"
    }
   },
   "source": [
    "def insertionSort_v1(arr):\n",
    "    for i in range(1, len(arr)):\n",
    "        # 插入值\n",
    "        insert_value = arr[i]\n",
    "        for j in range(i, 0, -1):\n",
    "            if arr[j - 1] > insert_value:\n",
    "                arr[j - 1], arr[j] = arr[j], arr[j - 1]\n",
    "    return arr\n",
    "print(insertionSort_v1([5, 4, 3, 2, 1]))\n",
    "print(insertionSort_v1([259, 190, 20, 100, 87, 134, 90]))\n"
   ],
   "outputs": [
    {
     "name": "stdout",
     "output_type": "stream",
     "text": [
      "[1, 2, 3, 4, 5]\n",
      "[20, 87, 90, 100, 134, 190, 259]\n"
     ]
    }
   ],
   "execution_count": 2
  },
  {
   "metadata": {},
   "cell_type": "code",
   "outputs": [],
   "execution_count": null,
   "source": "",
   "id": "26b57ed25ba405d9"
  }
 ],
 "metadata": {
  "kernelspec": {
   "display_name": "Python 3",
   "language": "python",
   "name": "python3"
  },
  "language_info": {
   "codemirror_mode": {
    "name": "ipython",
    "version": 2
   },
   "file_extension": ".py",
   "mimetype": "text/x-python",
   "name": "python",
   "nbconvert_exporter": "python",
   "pygments_lexer": "ipython2",
   "version": "2.7.6"
  }
 },
 "nbformat": 4,
 "nbformat_minor": 5
}
