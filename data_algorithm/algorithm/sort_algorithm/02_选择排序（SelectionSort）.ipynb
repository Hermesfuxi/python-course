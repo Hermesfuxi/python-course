{
 "cells": [
  {
   "cell_type": "code",
   "id": "initial_id",
   "metadata": {
    "collapsed": true,
    "ExecuteTime": {
     "end_time": "2025-03-29T04:52:40.269675Z",
     "start_time": "2025-03-29T04:52:40.265394Z"
    }
   },
   "source": [
    "def selectionSort_v1(arr):\n",
    "    n = len(arr)\n",
    "    for i in range(n):\n",
    "        for j in range(i+1, n):\n",
    "            if arr[j] < arr[i]:\n",
    "                arr[j], arr[i] = arr[i], arr[j]\n",
    "    return arr\n",
    "print(selectionSort_v1([5, 4, 3, 2, 1]))\n",
    "print(selectionSort_v1([259, 190, 20, 100, 87, 134, 90]))"
   ],
   "outputs": [
    {
     "name": "stdout",
     "output_type": "stream",
     "text": [
      "[1, 2, 3, 4, 5]\n",
      "[1, 2, 3, 4, 5]\n"
     ]
    }
   ],
   "execution_count": 1
  },
  {
   "metadata": {},
   "cell_type": "code",
   "outputs": [],
   "execution_count": null,
   "source": [
    "def selectionSort_v2(arr):\n",
    "    n = len(arr)\n"
   ],
   "id": "cc601a589f16e729"
  }
 ],
 "metadata": {
  "kernelspec": {
   "display_name": "Python 3",
   "language": "python",
   "name": "python3"
  },
  "language_info": {
   "codemirror_mode": {
    "name": "ipython",
    "version": 2
   },
   "file_extension": ".py",
   "mimetype": "text/x-python",
   "name": "python",
   "nbconvert_exporter": "python",
   "pygments_lexer": "ipython2",
   "version": "2.7.6"
  }
 },
 "nbformat": 4,
 "nbformat_minor": 5
}
