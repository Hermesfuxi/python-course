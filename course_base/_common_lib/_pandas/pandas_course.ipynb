{
 "cells": [
  {
   "cell_type": "code",
   "execution_count": 2,
   "id": "921ca265",
   "metadata": {
    "pycharm": {
     "name": "#%%\n"
    }
   },
   "outputs": [
    {
     "name": "stdout",
     "output_type": "stream",
     "text": [
      "     Site  Age\n",
      "0  Google   10\n",
      "1  Runoob   12\n",
      "2    Wiki   13\n"
     ]
    }
   ],
   "source": [
    "import pandas as pd\n",
    "\n",
    "data = [['Google', 10], ['Runoob', 12], ['Wiki', 13]]\n",
    "\n",
    "df = pd.DataFrame(data, columns=['Site', 'Age'])\n",
    "\n",
    "print(df)"
   ]
  },
  {
   "cell_type": "code",
   "execution_count": 3,
   "id": "862f7c9a",
   "metadata": {
    "pycharm": {
     "name": "#%%\n"
    }
   },
   "outputs": [
    {
     "name": "stdout",
     "output_type": "stream",
     "text": [
      "a    1\n",
      "b    4\n",
      "Name: 0, dtype: int64\n",
      "a    2\n",
      "b    8\n",
      "Name: 1, dtype: int64\n",
      "   a  b\n",
      "0  1  4\n",
      "1  2  8\n",
      "    a  b\n",
      "a1  1  4\n",
      "b1  2  8\n",
      "a    1\n",
      "b    4\n",
      "Name: a1, dtype: int64\n"
     ]
    }
   ],
   "source": [
    "data = {\n",
    "    'a': [1, 2],\n",
    "    'b': [4, 8]\n",
    "}\n",
    "df = pd.DataFrame(data)\n",
    "print(df.loc[0])\n",
    "print(df.loc[1])\n",
    "print(df.loc[[0, 1]])\n",
    "\n",
    "df1 = pd.DataFrame(data, index=['a1', 'b1'])\n",
    "print(df1)\n",
    "print(df1.loc['a1'])"
   ]
  },
  {
   "cell_type": "markdown",
   "id": "ebf1faea",
   "metadata": {
    "pycharm": {
     "name": "#%% md\n"
    }
   },
   "source": [
    "# Pandas CSV 文件"
   ]
  },
  {
   "cell_type": "code",
   "execution_count": 5,
   "id": "a1ac7b00",
   "metadata": {
    "pycharm": {
     "name": "#%%\n"
    }
   },
   "outputs": [
    {
     "name": "stdout",
     "output_type": "stream",
     "text": [
      "     name               site  age\n",
      "0  Google     www.google.com   90\n",
      "1  Runoob     www.runoob.com   40\n",
      "2  Taobao     www.taobao.com   80\n",
      "3    Wiki  www.wikipedia.org   98\n"
     ]
    }
   ],
   "source": [
    "nme = [\"Google\", \"Runoob\", \"Taobao\", \"Wiki\"]\n",
    "st = [\"www.google.com\", \"www.runoob.com\", \"www.taobao.com\", \"www.wikipedia.org\"]\n",
    "ag = [90, 40, 80, 98]\n",
    "\n",
    "# 字典\n",
    "dict = {'name': nme, 'site': st, 'age': ag}\n",
    "\n",
    "df = pd.DataFrame(dict)\n",
    "print(df)\n",
    "\n",
    "df.to_csv('data/site.csv')"
   ]
  },
  {
   "cell_type": "code",
   "execution_count": 6,
   "id": "4b3f00fd",
   "metadata": {
    "pycharm": {
     "name": "#%%\n"
    }
   },
   "outputs": [
    {
     "name": "stdout",
     "output_type": "stream",
     "text": [
      "   Unnamed: 0    name               site  age\n",
      "0           0  Google     www.google.com   90\n",
      "1           1  Runoob     www.runoob.com   40\n",
      "2           2  Taobao     www.taobao.com   80\n",
      "3           3    Wiki  www.wikipedia.org   98\n",
      "   Unnamed: 0    name            site  age\n",
      "0           0  Google  www.google.com   90\n",
      "1           1  Runoob  www.runoob.com   40\n",
      "========================================\n",
      "   Unnamed: 0    name               site  age\n",
      "0           0  Google     www.google.com   90\n",
      "1           1  Runoob     www.runoob.com   40\n",
      "2           2  Taobao     www.taobao.com   80\n",
      "3           3    Wiki  www.wikipedia.org   98\n",
      "   Unnamed: 0    name               site  age\n",
      "2           2  Taobao     www.taobao.com   80\n",
      "3           3    Wiki  www.wikipedia.org   98\n",
      "========================================\n",
      "<class 'pandas.core.frame.DataFrame'>\n",
      "RangeIndex: 4 entries, 0 to 3\n",
      "Data columns (total 4 columns):\n",
      " #   Column      Non-Null Count  Dtype \n",
      "---  ------      --------------  ----- \n",
      " 0   Unnamed: 0  4 non-null      int64 \n",
      " 1   name        4 non-null      object\n",
      " 2   site        4 non-null      object\n",
      " 3   age         4 non-null      int64 \n",
      "dtypes: int64(2), object(2)\n",
      "memory usage: 256.0+ bytes\n",
      "None\n"
     ]
    }
   ],
   "source": [
    "df2 = pd.read_csv('data/site.csv')\n",
    "print(df2.head())\n",
    "print(df2.head(2))\n",
    "print('=' * 40)\n",
    "print(df2.tail())\n",
    "print(df2.tail(2))\n",
    "print('=' * 40)\n",
    "print(df2.info())"
   ]
  },
  {
   "cell_type": "markdown",
   "id": "36ad21e7",
   "metadata": {
    "pycharm": {
     "name": "#%% md\n"
    }
   },
   "source": [
    "# Pandas JSON"
   ]
  },
  {
   "cell_type": "code",
   "execution_count": 7,
   "id": "bc24c843",
   "metadata": {
    "pycharm": {
     "name": "#%%\n"
    }
   },
   "outputs": [
    {
     "name": "stdout",
     "output_type": "stream",
     "text": [
      "     id    name             url  likes\n",
      "0  A001    菜鸟教程  www.runoob.com     61\n",
      "1  A002  Google  www.google.com    124\n",
      "2  A003      淘宝  www.taobao.com     45\n"
     ]
    }
   ],
   "source": [
    "data = [\n",
    "    {\n",
    "        \"id\": \"A001\",\n",
    "        \"name\": \"菜鸟教程\",\n",
    "        \"url\": \"www.runoob.com\",\n",
    "        \"likes\": 61\n",
    "    },\n",
    "    {\n",
    "        \"id\": \"A002\",\n",
    "        \"name\": \"Google\",\n",
    "        \"url\": \"www.google.com\",\n",
    "        \"likes\": 124\n",
    "    },\n",
    "    {\n",
    "        \"id\": \"A003\",\n",
    "        \"name\": \"淘宝\",\n",
    "        \"url\": \"www.taobao.com\",\n",
    "        \"likes\": 45\n",
    "    }\n",
    "]\n",
    "df = pd.DataFrame(data)\n",
    "\n",
    "print(df)"
   ]
  },
  {
   "cell_type": "code",
   "execution_count": 8,
   "id": "21fbe1ca",
   "metadata": {
    "pycharm": {
     "name": "#%%\n"
    }
   },
   "outputs": [
    {
     "name": "stdout",
     "output_type": "stream",
     "text": [
      "      col1 col2\n",
      "row1     1    x\n",
      "row2     2    y\n",
      "row3     3    z\n"
     ]
    }
   ],
   "source": [
    "# 字典格式的 JSON                                                                                              \n",
    "s = {\n",
    "    \"col1\": {\"row1\": 1, \"row2\": 2, \"row3\": 3},\n",
    "    \"col2\": {\"row1\": \"x\", \"row2\": \"y\", \"row3\": \"z\"}\n",
    "}\n",
    "\n",
    "# 读取 JSON 转为 DataFrame                                                                                          \n",
    "df = pd.DataFrame(s)\n",
    "print(df)"
   ]
  },
  {
   "cell_type": "code",
   "execution_count": 9,
   "id": "2de7a064",
   "metadata": {
    "pycharm": {
     "name": "#%%\n"
    }
   },
   "outputs": [
    {
     "name": "stdout",
     "output_type": "stream",
     "text": [
      "     id    name             url  likes\n",
      "0  A001    菜鸟教程  www.runoob.com     61\n",
      "1  A002  Google  www.google.com    124\n",
      "2  A003      淘宝  www.taobao.com     45\n"
     ]
    }
   ],
   "source": [
    "df = pd.read_json('https://static.runoob.com/download/sites.json')\n",
    "print(df)"
   ]
  },
  {
   "cell_type": "code",
   "execution_count": 10,
   "id": "36fc9568",
   "metadata": {
    "pycharm": {
     "name": "#%%\n"
    }
   },
   "outputs": [
    {
     "name": "stdout",
     "output_type": "stream",
     "text": [
      "          school_name   class  \\\n",
      "0  ABC primary school  Year 1   \n",
      "1  ABC primary school  Year 1   \n",
      "2  ABC primary school  Year 1   \n",
      "\n",
      "                                            students  \n",
      "0  {'id': 'A001', 'name': 'Tom', 'math': 60, 'phy...  \n",
      "1  {'id': 'A002', 'name': 'James', 'math': 89, 'p...  \n",
      "2  {'id': 'A003', 'name': 'Jenny', 'math': 79, 'p...  \n"
     ]
    }
   ],
   "source": [
    "df = pd.read_json('data/nested_list.json')\n",
    "print(df)"
   ]
  },
  {
   "cell_type": "code",
   "execution_count": 11,
   "id": "cf8f955c",
   "metadata": {
    "pycharm": {
     "name": "#%%\n"
    }
   },
   "outputs": [
    {
     "name": "stdout",
     "output_type": "stream",
     "text": [
      "     id   name  math  physics  chemistry\n",
      "0  A001    Tom    60       66         61\n",
      "1  A002  James    89       76         51\n",
      "2  A003  Jenny    79       90         78\n",
      "     id   name  math  physics  chemistry         school_name   class\n",
      "0  A001    Tom    60       66         61  ABC primary school  Year 1\n",
      "1  A002  James    89       76         51  ABC primary school  Year 1\n",
      "2  A003  Jenny    79       90         78  ABC primary school  Year 1\n"
     ]
    }
   ],
   "source": [
    "import json\n",
    "\n",
    "with open('data/nested_list.json') as file:\n",
    "    data = json.loads(file.read())\n",
    "\n",
    "print(pd.json_normalize(data, record_path='students'))\n",
    "print(pd.json_normalize(data, record_path='students', meta=['school_name', 'class']))"
   ]
  },
  {
   "cell_type": "code",
   "execution_count": 12,
   "id": "3b961d64",
   "metadata": {
    "pycharm": {
     "name": "#%%\n"
    }
   },
   "outputs": [
    {
     "name": "stdout",
     "output_type": "stream",
     "text": [
      "     学校 地理位置  排名                                          老师 信息.学生  \\\n",
      "0  清华大学   北京   1  [{'名字': '王五'}, {'名字': '王六'}, {'名字': '王七'}]    张三   \n",
      "\n",
      "   信息.联系方式.邮件.qq邮箱 信息.联系方式.邮件.163邮箱 信息.联系方式.电话号码  \n",
      "0  zhangsan@qq.com    zhangsan@.com    123456789  \n"
     ]
    }
   ],
   "source": [
    "with open('data/nested_deep.json') as file:\n",
    "    data = json.loads(file.read())\n",
    "\n",
    "print(pd.json_normalize(data, max_level=3))"
   ]
  },
  {
   "cell_type": "markdown",
   "id": "6ef88c70",
   "metadata": {
    "pycharm": {
     "name": "#%% md\n"
    }
   },
   "source": [
    "## Pandas 数据清洗\n",
    "数据清洗是对一些没有用的数据进行处理的过程。\n",
    "很多数据集存在数据缺失、数据格式错误、错误数据或重复数据的情况，如果要对使数据分析更加准确，就需要对这些没有用的数据进行处理。\n",
    "在这个教程中，我们将利用 Pandas包来进行数据清洗。"
   ]
  },
  {
   "cell_type": "code",
   "execution_count": 64,
   "outputs": [
    {
     "name": "stdout",
     "output_type": "stream",
     "text": [
      "0    3.0\n",
      "1    3.0\n",
      "2    NaN\n",
      "3    1.0\n",
      "4    3.0\n",
      "5    NaN\n",
      "6    2.0\n",
      "7    1.0\n",
      "8    NaN\n",
      "Name: NUM_BEDROOMS, dtype: float64\n",
      "========================================\n",
      "0    False\n",
      "1    False\n",
      "2     True\n",
      "3    False\n",
      "4    False\n",
      "5     True\n",
      "6    False\n",
      "7    False\n",
      "8     True\n",
      "Name: NUM_BEDROOMS, dtype: bool\n"
     ]
    }
   ],
   "source": [
    "# df = pd.read_csv('data/property-data.csv')\n",
    "\n",
    "missing_values = [\"n/a\", \"na\", \"--\"]\n",
    "df = pd.read_csv('data/property-data.csv', na_values=missing_values)\n",
    "\n",
    "print(df['NUM_BEDROOMS'])\n",
    "print('=' * 40)\n",
    "#  isnull() 判断各个单元格是否为空\n",
    "print(df['NUM_BEDROOMS'].isnull())"
   ],
   "metadata": {
    "collapsed": false,
    "pycharm": {
     "name": "#%%\n"
    }
   }
  },
  {
   "cell_type": "code",
   "execution_count": 53,
   "outputs": [
    {
     "name": "stdout",
     "output_type": "stream",
     "text": [
      "           PID  ST_NUM     ST_NAME OWN_OCCUPIED  NUM_BEDROOMS NUM_BATH   SQ_FT\n",
      "0  100001000.0   104.0      PUTNAM            Y           3.0        1  1000.0\n",
      "1  100002000.0   197.0   LEXINGTON            N           3.0      1.5     NaN\n",
      "2  100003000.0     NaN   LEXINGTON            N           NaN        1   850.0\n",
      "3  100004000.0   201.0    BERKELEY           12           1.0      NaN   700.0\n",
      "4          NaN   203.0    BERKELEY            Y           3.0        2  1600.0\n",
      "5  100006000.0   207.0    BERKELEY            Y           NaN        1   800.0\n",
      "6  100007000.0     NaN  WASHINGTON          NaN           2.0   HURLEY   950.0\n",
      "7  100008000.0   213.0     TREMONT            Y           1.0        1     NaN\n",
      "8  100009000.0   215.0     TREMONT            Y           NaN        2  1800.0\n",
      "================================================================================\n",
      "0    3.0\n",
      "1    3.0\n",
      "3    1.0\n",
      "4    3.0\n",
      "6    2.0\n",
      "7    1.0\n",
      "Name: NUM_BEDROOMS, dtype: float64\n",
      "++++++++++++++++++++++++++++++++++++++++++++++++++++++++++++++++++++++++++++++++\n",
      "0    3.0\n",
      "1    3.0\n",
      "3    1.0\n",
      "4    3.0\n",
      "6    2.0\n",
      "7    1.0\n",
      "Name: NUM_BEDROOMS, dtype: float64\n",
      "++++++++++++++++++++++++++++++++++++++++++++++++++++++++++++++++++++++++++++++++\n",
      "None\n"
     ]
    }
   ],
   "source": [
    "# 默认情况下，dropna() 方法返回一个新的 DataFrame，不会修改源数据。若需修改源数据 DataFrame, 可以使用 inplace = True 参数\n",
    "df2 = df['NUM_BEDROOMS'].dropna()\n",
    "print(df)\n",
    "print(\"=\" * 80)\n",
    "print(df2)\n",
    "print(\"+\" * 80)\n",
    "\n",
    "df3 = df['NUM_BEDROOMS']\n",
    "df4 = df3.dropna(inplace=True)\n",
    "print(df3)\n",
    "print(\"+\" * 80)\n",
    "print(df4)"
   ],
   "metadata": {
    "collapsed": false,
    "pycharm": {
     "name": "#%%\n"
    }
   }
  },
  {
   "cell_type": "code",
   "execution_count": 54,
   "outputs": [
    {
     "name": "stdout",
     "output_type": "stream",
     "text": [
      "2641674691056 2641689665104\n",
      "++++++++++++++++++++++++++++++++++++++++++++++++++++++++++++++++++++++++++++++++\n",
      "           PID  ST_NUM ST_NAME OWN_OCCUPIED  NUM_BEDROOMS NUM_BATH   SQ_FT\n",
      "0  100001000.0   104.0  PUTNAM            Y           3.0        1  1000.0\n",
      "++++++++++++++++++++++++++++++++++++++++++++++++++++++++++++++++++++++++++++++++\n",
      "           PID  ST_NUM     ST_NAME OWN_OCCUPIED  NUM_BEDROOMS NUM_BATH   SQ_FT\n",
      "0  100001000.0   104.0      PUTNAM            Y           3.0        1  1000.0\n",
      "1  100002000.0   197.0   LEXINGTON            N           3.0      1.5     NaN\n",
      "2  100003000.0     NaN   LEXINGTON            N           NaN        1   850.0\n",
      "3  100004000.0   201.0    BERKELEY           12           1.0      NaN   700.0\n",
      "5  100006000.0   207.0    BERKELEY            Y           NaN        1   800.0\n",
      "6  100007000.0     NaN  WASHINGTON          NaN           2.0   HURLEY   950.0\n",
      "7  100008000.0   213.0     TREMONT            Y           1.0        1     NaN\n",
      "8  100009000.0   215.0     TREMONT            Y           NaN        2  1800.0\n"
     ]
    }
   ],
   "source": [
    "df_new = df.copy()\n",
    "print(id(df), id(df_new))\n",
    "print(\"+\" * 80)\n",
    "\n",
    "df_new.dropna(inplace=True)\n",
    "print(df_new)\n",
    "print(\"+\" * 80)\n",
    "\n",
    "df_new2 = df.copy()\n",
    "df_new2.dropna(inplace=True, subset=['PID'])\n",
    "print(df_new2)"
   ],
   "metadata": {
    "collapsed": false,
    "pycharm": {
     "name": "#%%\n"
    }
   }
  },
  {
   "cell_type": "code",
   "execution_count": 63,
   "outputs": [
    {
     "name": "stdout",
     "output_type": "stream",
     "text": [
      "           PID  ST_NUM     ST_NAME OWN_OCCUPIED  NUM_BEDROOMS NUM_BATH   SQ_FT\n",
      "0  100001000.0   104.0      PUTNAM            Y           3.0        1  1000.0\n",
      "1  100002000.0   197.0   LEXINGTON            N           3.0      1.5  1234.0\n",
      "2  100003000.0  1234.0   LEXINGTON            N        1234.0        1   850.0\n",
      "3  100004000.0   201.0    BERKELEY           12           1.0     1234   700.0\n",
      "4       1234.0   203.0    BERKELEY            Y           3.0        2  1600.0\n",
      "5  100006000.0   207.0    BERKELEY            Y        1234.0        1   800.0\n",
      "6  100007000.0  1234.0  WASHINGTON         1234           2.0   HURLEY   950.0\n",
      "7  100008000.0   213.0     TREMONT            Y           1.0        1  1234.0\n",
      "8  100009000.0   215.0     TREMONT            Y        1234.0        2  1800.0\n"
     ]
    }
   ],
   "source": [
    "df_new3 = df.copy()\n",
    "df.fillna(1234, inplace=True)\n",
    "print(df_new3)"
   ],
   "metadata": {
    "collapsed": false,
    "pycharm": {
     "name": "#%%\n"
    }
   }
  },
  {
   "cell_type": "code",
   "execution_count": 90,
   "outputs": [
    {
     "name": "stdout",
     "output_type": "stream",
     "text": [
      "0    104.0\n",
      "1    197.0\n",
      "2    201.0\n",
      "3    203.0\n",
      "4    207.0\n",
      "5    213.0\n",
      "6    215.0\n",
      "Name: ST_NUM, dtype: float64\n",
      "           PID  ST_NUM     ST_NAME OWN_OCCUPIED  NUM_BEDROOMS NUM_BATH   SQ_FT\n",
      "0  100001000.0   104.0      PUTNAM            Y           3.0        1  1000.0\n",
      "1  100002000.0   197.0   LEXINGTON            N           3.0      1.5     NaN\n",
      "2  100003000.0   201.0   LEXINGTON            N           NaN        1   850.0\n",
      "3  100004000.0   201.0    BERKELEY           12           1.0      NaN   700.0\n",
      "4          NaN   203.0    BERKELEY            Y           3.0        2  1600.0\n",
      "5  100006000.0   207.0    BERKELEY            Y           NaN        1   800.0\n",
      "6  100007000.0   215.0  WASHINGTON          NaN           2.0   HURLEY   950.0\n",
      "7  100008000.0   213.0     TREMONT            Y           1.0        1     NaN\n",
      "8  100009000.0   215.0     TREMONT            Y           NaN        2  1800.0\n"
     ]
    }
   ],
   "source": [
    "df_new = df.copy()\n",
    "# x = df_new['ST_NUM'].mean()\n",
    "# x = df_new['ST_NUM'].median()\n",
    "x = df_new['ST_NUM'].mode()\n",
    "# 众数可能是多个数量相同的值，若不取一个，则会填充生成后的Series对应下标的数据\n",
    "# if type(x) == type(pd.Series(1)):\n",
    "#     x = x[0]\n",
    "\n",
    "print(x)\n",
    "df_new['ST_NUM'].fillna(x, inplace=True)\n",
    "print(df_new)"
   ],
   "metadata": {
    "collapsed": false,
    "pycharm": {
     "name": "#%%\n"
    }
   }
  },
  {
   "cell_type": "code",
   "execution_count": 92,
   "outputs": [
    {
     "name": "stdout",
     "output_type": "stream",
     "text": [
      "0   2020-12-01\n",
      "1   2020-12-02\n",
      "2   2020-12-26\n",
      "Name: Date, dtype: datetime64[ns]\n"
     ]
    }
   ],
   "source": [
    "data = {\n",
    "  \"Date\": ['2020/12/01', '2020/12/02' , '20201226'], # 第三个日期格式错误\n",
    "  \"duration\": [50, 40, 45]\n",
    "}\n",
    "df_data = pd.DataFrame(data)\n",
    "df_datetime = pd.to_datetime(df_data['Date'])\n",
    "print(df_datetime)"
   ],
   "metadata": {
    "collapsed": false,
    "pycharm": {
     "name": "#%%\n"
    }
   }
  },
  {
   "cell_type": "code",
   "execution_count": 118,
   "outputs": [
    {
     "name": "stdout",
     "output_type": "stream",
     "text": [
      "        name    age\n",
      "row1  Google     50\n",
      "row2  Runoob    121\n",
      "row3  Taobao  12345\n",
      "++++++++++++++++++++++++++++++++++++++++++++++++++++++++++++++++++++++++++++++++\n",
      "        name  age\n",
      "row1  Google   50\n",
      "row2  Runoob  121\n",
      "row3  Taobao   20\n",
      "++++++++++++++++++++++++++++++++++++++++++++++++++++++++++++++++++++++++++++++++\n",
      "        name  age\n",
      "row1  Google   50\n",
      "row2  Runoob  120\n",
      "row3  Taobao   20\n",
      "12345\n",
      "        name  age\n",
      "row1  Google   50\n",
      "row2  Runoob  120\n"
     ]
    }
   ],
   "source": [
    "person = {\n",
    "  \"name\": ['Google', 'Runoob' , 'Taobao'],\n",
    "  \"age\": [50, 121, 12345]    # 12345 年龄数据是错误的，另外 超出120的需改为 120\n",
    "}\n",
    "df_person = pd.DataFrame(person, index=['row1', 'row2', 'row3'])\n",
    "print(df_person)\n",
    "print(\"+\" * 80)\n",
    "\n",
    "# print(df_person.loc['row3', 'age'])\n",
    "df_person.loc['row3', 'age'] = 20\n",
    "print(df_person)\n",
    "print(\"+\" * 80)\n",
    "\n",
    "for x in df_person.index:\n",
    "    if (y := df_person.loc[x, 'age']) > 120:\n",
    "        df_person.loc[x, 'age'] = 120\n",
    "print(df_person)\n",
    "\n",
    "# 或者直接删除掉\n",
    "df_person.loc['row3', 'age'] = 12345\n",
    "for x in df_person.index:\n",
    "    if (y := df_person.loc[x, 'age']) > 120:\n",
    "        df_person.drop(x, inplace=True)\n",
    "        print(y)\n",
    "print(df_person)"
   ],
   "metadata": {
    "collapsed": false,
    "pycharm": {
     "name": "#%%\n"
    }
   }
  },
  {
   "cell_type": "code",
   "execution_count": 121,
   "outputs": [
    {
     "name": "stdout",
     "output_type": "stream",
     "text": [
      "     name  age\n",
      "0  Google   50\n",
      "1  Runoob   40\n",
      "2  Runoob   40\n",
      "3  Taobao   23\n",
      "================================================================================\n",
      "0    False\n",
      "1    False\n",
      "2     True\n",
      "3    False\n",
      "dtype: bool\n",
      "================================================================================\n",
      "     name  age\n",
      "0  Google   50\n",
      "1  Runoob   40\n",
      "3  Taobao   23\n"
     ]
    }
   ],
   "source": [
    "person = {\n",
    "  \"name\": ['Google', 'Runoob', 'Runoob', 'Taobao'],\n",
    "  \"age\": [50, 40, 40, 23]\n",
    "}\n",
    "df = pd.DataFrame(person)\n",
    "print(df)\n",
    "print('='*80)\n",
    "print(df.duplicated())\n",
    "print('='*80)\n",
    "print(df.drop_duplicates())"
   ],
   "metadata": {
    "collapsed": false,
    "pycharm": {
     "name": "#%%\n"
    }
   }
  }
 ],
 "metadata": {
  "kernelspec": {
   "display_name": "Python 3 (ipykernel)",
   "language": "python",
   "name": "python3"
  },
  "language_info": {
   "codemirror_mode": {
    "name": "ipython",
    "version": 3
   },
   "file_extension": ".py",
   "mimetype": "text/x-python",
   "name": "python",
   "nbconvert_exporter": "python",
   "pygments_lexer": "ipython3",
   "version": "3.8.13"
  }
 },
 "nbformat": 4,
 "nbformat_minor": 5
}