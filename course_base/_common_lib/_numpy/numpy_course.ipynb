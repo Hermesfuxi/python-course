{
 "cells": [
  {
   "cell_type": "code",
   "execution_count": null,
   "metadata": {
    "collapsed": true,
    "pycharm": {
     "name": "#%%\n",
     "is_executing": true
    }
   },
   "outputs": [],
   "source": [
    "strs = '''\n",
    "soft light: 柔软的光线\n",
    "Cinematic light: 电影光\n",
    "Volumetric light: 立体光\n",
    "Studio light: 影棚光\n",
    "Natural light: 自然光\n",
    "Raking light: 侧光\n",
    "Edge light: 边缘光\n",
    "Back light: 逆光\n",
    "Bright: 明亮的光线\n",
    "Top light: 顶光\n",
    "Rim light: 轮廓光\n",
    "Sun light: 太阳光\n",
    "Golden hour light: 黄金时段光\n",
    "cold light: 冷光\n",
    "Warm light: 暖光\n",
    "Cyberpunk light: 赛博朋克光\n",
    "Rembrandt light: 伦勃朗光\n",
    "reflection light: 反光\n",
    "mood lighting: 情调光\n",
    "atmospheric lighting: 气氛照明\n",
    "dramatic contrast: 强烈对比的\n",
    "volumetric lighting: 层次光\n",
    "Shadow effect: 阴影效果\n",
    "Romantic candlelight: 浪漫烛光\n",
    "'''\n",
    "\n",
    "new_str = ''\n",
    "for s in strs.split(r\"\\n\"):\n",
    "    print(s)\n",
    "    arr = s.split(': ')[::-1]\n",
    "    print(arr)\n",
    "    new_s = ': '.join(str(i) for i in arr)\n",
    "    print(new_s)\n",
    "    new_str += new_s + '\\n'\n",
    "print(new_str)"
   ]
  },
  {
   "cell_type": "code",
   "execution_count": null,
   "outputs": [],
   "source": [],
   "metadata": {
    "collapsed": false,
    "pycharm": {
     "name": "#%%\n"
    }
   }
  }
 ],
 "metadata": {
  "kernelspec": {
   "display_name": "Python 3",
   "language": "python",
   "name": "python3"
  },
  "language_info": {
   "codemirror_mode": {
    "name": "ipython",
    "version": 2
   },
   "file_extension": ".py",
   "mimetype": "text/x-python",
   "name": "python",
   "nbconvert_exporter": "python",
   "pygments_lexer": "ipython2",
   "version": "2.7.6"
  }
 },
 "nbformat": 4,
 "nbformat_minor": 0
}