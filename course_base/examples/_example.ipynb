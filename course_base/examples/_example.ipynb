{
 "cells": [
  {
   "cell_type": "code",
   "id": "initial_id",
   "metadata": {
    "collapsed": true,
    "ExecuteTime": {
     "end_time": "2025-03-14T09:09:08.984470Z",
     "start_time": "2025-03-14T09:09:08.980623Z"
    }
   },
   "source": [
    "# 九九乘法表\n",
    "for i in range(1, 10):\n",
    "    for j in range(1, i+1):\n",
    "        print(f'{i}*{j}={i*j}', end=\" \")\n",
    "    print(end=\"\\n\")"
   ],
   "outputs": [
    {
     "name": "stdout",
     "output_type": "stream",
     "text": [
      "1*1=1 \n",
      "2*1=2 2*2=4 \n",
      "3*1=3 3*2=6 3*3=9 \n",
      "4*1=4 4*2=8 4*3=12 4*4=16 \n",
      "5*1=5 5*2=10 5*3=15 5*4=20 5*5=25 \n",
      "6*1=6 6*2=12 6*3=18 6*4=24 6*5=30 6*6=36 \n",
      "7*1=7 7*2=14 7*3=21 7*4=28 7*5=35 7*6=42 7*7=49 \n",
      "8*1=8 8*2=16 8*3=24 8*4=32 8*5=40 8*6=48 8*7=56 8*8=64 \n",
      "9*1=9 9*2=18 9*3=27 9*4=36 9*5=45 9*6=54 9*7=63 9*8=72 9*9=81 \n"
     ]
    }
   ],
   "execution_count": 1
  },
  {
   "metadata": {
    "ExecuteTime": {
     "end_time": "2025-03-14T09:10:29.622004Z",
     "start_time": "2025-03-14T09:10:29.617576Z"
    }
   },
   "cell_type": "code",
   "source": [
    "# 返回两个数的最大公约数\n",
    "def hcf(x, y):\n",
    "    # 获取最小值\n",
    "    if x > y:\n",
    "        smaller = y\n",
    "    else:\n",
    "        smaller = x\n",
    "\n",
    "    hcf = 1\n",
    "    for i in range(1, smaller + 1):\n",
    "        if ((x % i == 0) and (y % i == 0)):\n",
    "            hcf = i\n",
    "\n",
    "    return hcf\n",
    "\n",
    "print(hcf(5, 15))\n",
    "print(hcf(55, 15))\n",
    "print(hcf(55, 121))"
   ],
   "id": "4ed9f5987c16f713",
   "outputs": [
    {
     "name": "stdout",
     "output_type": "stream",
     "text": [
      "5\n",
      "5\n",
      "11\n"
     ]
    }
   ],
   "execution_count": 4
  },
  {
   "metadata": {
    "ExecuteTime": {
     "end_time": "2025-03-22T12:53:43.242103Z",
     "start_time": "2025-03-22T12:53:20.875087Z"
    }
   },
   "cell_type": "code",
   "source": [
    "import time\n",
    "def timer(func, params):\n",
    "    start_time = time.time()\n",
    "    result = func(params)\n",
    "    end_time = time.time()\n",
    "    print(f\"{func.__name__} 函数执行时间为: {end_time - start_time}s\")\n",
    "    return result\n",
    "\n",
    "def fibonacci_sequence_v1(n: int):\n",
    "    if n == 0 or n == 1:\n",
    "        return n\n",
    "    else:\n",
    "        return fibonacci_sequence_v1(n - 1) + fibonacci_sequence_v1(n - 2)\n",
    "\n",
    "def fibonacci_sequence_v2(n: int):\n",
    "    if n == 0 or n == 1:\n",
    "        return n\n",
    "    else:\n",
    "        a = 0\n",
    "        b = 1\n",
    "        c = 1\n",
    "        for i in range(2, n + 1):\n",
    "            c = a + b\n",
    "            a = b\n",
    "            b = c\n",
    "        return c\n",
    "\n",
    "\n",
    "if __name__ == '__main__':\n",
    "    print(timer(fibonacci_sequence_v1, 40))\n",
    "    print(timer(fibonacci_sequence_v2, 40))"
   ],
   "id": "aef6cdeb3c5ea57b",
   "outputs": [
    {
     "name": "stdout",
     "output_type": "stream",
     "text": [
      "fibonacci_sequence_v1 函数执行时间为: 22.361331701278687s\n",
      "102334155\n",
      "fibonacci_sequence_v2 函数执行时间为: 2.0265579223632812e-05s\n",
      "102334155\n"
     ]
    }
   ],
   "execution_count": 1
  },
  {
   "metadata": {},
   "cell_type": "code",
   "outputs": [],
   "execution_count": null,
   "source": "",
   "id": "34c4b86f26894b5e"
  }
 ],
 "metadata": {
  "kernelspec": {
   "display_name": "Python 3",
   "language": "python",
   "name": "python3"
  },
  "language_info": {
   "codemirror_mode": {
    "name": "ipython",
    "version": 2
   },
   "file_extension": ".py",
   "mimetype": "text/x-python",
   "name": "python",
   "nbconvert_exporter": "python",
   "pygments_lexer": "ipython2",
   "version": "2.7.6"
  }
 },
 "nbformat": 4,
 "nbformat_minor": 5
}
