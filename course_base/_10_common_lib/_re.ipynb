{
 "cells": [
  {
   "metadata": {},
   "cell_type": "markdown",
   "source": "# **Python正则表达式**",
   "id": "caf7668d63496eb7"
  },
  {
   "cell_type": "code",
   "id": "initial_id",
   "metadata": {
    "collapsed": true,
    "ExecuteTime": {
     "end_time": "2025-03-26T14:14:03.682762Z",
     "start_time": "2025-03-26T14:14:03.679111Z"
    }
   },
   "source": [
    "import re\n",
    "\n",
    "p = re.compile(r'agbheawr')\n",
    "\n",
    "print(p.search('aagbheawrdhx').group())\n",
    "print(p.match('agbheawrsehr').group())\n",
    "print(p.findall('agbheawrserdh'))\n",
    "print(p.finditer('agbheawrsgedrhg'))"
   ],
   "outputs": [
    {
     "name": "stdout",
     "output_type": "stream",
     "text": [
      "agbheawr\n",
      "agbheawr\n",
      "['agbheawr']\n",
      "<callable_iterator object at 0x0000018D762133A0>\n"
     ]
    }
   ],
   "execution_count": 35
  },
  {
   "metadata": {},
   "cell_type": "markdown",
   "source": "## **正则表达式基本语法**",
   "id": "7a551f3440a05b39"
  },
  {
   "metadata": {},
   "cell_type": "markdown",
   "source": [
    "### **re.match(pattern, string, flags=0)方法**\n",
    "\n",
    "**用于从字符串的开始处进行匹配，如果在起始位置匹配成功，则返回Match对象，否则返回None**\n",
    "\n",
    "参数说明：\n",
    "- pattern:匹配的正则表达式\n",
    "- string：被匹配的字符串\n",
    "- flags:标志位，用于控制正则表达式的匹配方式，如是否区分大小写，是否匹配多行等"
   ],
   "id": "2a523cb0dbef764a"
  },
  {
   "metadata": {
    "ExecuteTime": {
     "end_time": "2025-03-26T14:20:29.995730Z",
     "start_time": "2025-03-26T14:20:29.991768Z"
    }
   },
   "cell_type": "code",
   "source": [
    "pattern = re.compile(r'a', re.I)\n",
    "string = \"Abc\"\n",
    "re.match(pattern, string).group()"
   ],
   "id": "5844e69939425855",
   "outputs": [
    {
     "data": {
      "text/plain": [
       "'A'"
      ]
     },
     "execution_count": 41,
     "metadata": {},
     "output_type": "execute_result"
    }
   ],
   "execution_count": 41
  },
  {
   "metadata": {
    "ExecuteTime": {
     "end_time": "2025-03-26T14:21:13.264804Z",
     "start_time": "2025-03-26T14:21:13.244240Z"
    }
   },
   "cell_type": "code",
   "source": [
    "re.match(pattern, 'bac').group()\n",
    "# 从最开始位置匹配，若不能则报错"
   ],
   "id": "2b904d68cb90e658",
   "outputs": [
    {
     "ename": "AttributeError",
     "evalue": "'NoneType' object has no attribute 'group'",
     "output_type": "error",
     "traceback": [
      "\u001B[31m---------------------------------------------------------------------------\u001B[39m",
      "\u001B[31mAttributeError\u001B[39m                            Traceback (most recent call last)",
      "\u001B[36mCell\u001B[39m\u001B[36m \u001B[39m\u001B[32mIn[43]\u001B[39m\u001B[32m, line 1\u001B[39m\n\u001B[32m----> \u001B[39m\u001B[32m1\u001B[39m \u001B[43mre\u001B[49m\u001B[43m.\u001B[49m\u001B[43mmatch\u001B[49m\u001B[43m(\u001B[49m\u001B[43mpattern\u001B[49m\u001B[43m,\u001B[49m\u001B[43m \u001B[49m\u001B[33;43m'\u001B[39;49m\u001B[33;43mbac\u001B[39;49m\u001B[33;43m'\u001B[39;49m\u001B[43m)\u001B[49m\u001B[43m.\u001B[49m\u001B[43mgroup\u001B[49m()\n",
      "\u001B[31mAttributeError\u001B[39m: 'NoneType' object has no attribute 'group'"
     ]
    }
   ],
   "execution_count": 43
  },
  {
   "metadata": {},
   "cell_type": "markdown",
   "source": [
    "| 方法名称\t| 作用 |\n",
    "|:-------| ----  |\n",
    "| group\t| 以str形式返回对象中match的元素 |\n",
    "| start\t| 返回开始位置 |\n",
    "| end\t| 返回结束位置 |\n",
    "| span\t| 以tuple形式返回范围 |"
   ],
   "id": "6d54a95501fcca8d"
  },
  {
   "metadata": {
    "ExecuteTime": {
     "end_time": "2025-03-27T13:10:32.081223Z",
     "start_time": "2025-03-27T13:10:32.075380Z"
    }
   },
   "cell_type": "code",
   "source": [
    "s = \"babacdefg\"\n",
    "p=re.compile(r\"b(.+)a(.+)e\")\n",
    "m=p.match(s)\n",
    "print(m)\n",
    "print(m.groups())\n",
    "print(m.group())\n",
    "print(m.group(0), m.group(1),m.group(2))\n",
    "print('*'*20)\n",
    "print(m.span(0), m.span(1),m.span(2))\n",
    "print(s[m.span(0)[0]:m.span(0)[1]])\n",
    "print(s[m.span(1)[0]:m.span(1)[1]])\n",
    "print(s[m.span(2)[0]:m.span(2)[1]])\n",
    "print('*'*20)\n",
    "print(m.start(1),m.end(1))\n",
    "print(m.start(2),m.end(2))\n",
    "print(s[m.start(1):m.end(1)])\n",
    "print(s[m.start(2):m.end(2)])"
   ],
   "id": "f9cd052b4c964a9c",
   "outputs": [
    {
     "name": "stdout",
     "output_type": "stream",
     "text": [
      "<re.Match object; span=(0, 7), match='babacde'>\n",
      "('ab', 'cd')\n",
      "babacde\n",
      "babacde ab cd\n",
      "********************\n",
      "(0, 7) (1, 3) (4, 6)\n",
      "babacde\n",
      "ab\n",
      "cd\n",
      "********************\n",
      "1 3\n",
      "4 6\n",
      "ab\n",
      "cd\n"
     ]
    }
   ],
   "execution_count": 106
  },
  {
   "metadata": {},
   "cell_type": "markdown",
   "source": [
    "### **re.search(pattern, string, flags=0)方法**\n",
    "\n",
    "用于在整个字符串中搜索第一个匹配的值，如果匹配成功，则返回Match对象，否则返回None。\n",
    "\n",
    "参数说明：\n",
    "- pattern:匹配的正则表达式\n",
    "- string：被匹配的字符串\n",
    "- flags:标志位，用于控制正则表达式的匹配方式，如是否区分大小写，是否匹配多行等"
   ],
   "id": "b89f7eaddd52a9be"
  },
  {
   "metadata": {
    "ExecuteTime": {
     "end_time": "2025-03-26T14:24:13.123695Z",
     "start_time": "2025-03-26T14:24:13.119847Z"
    }
   },
   "cell_type": "code",
   "source": "re.search(pattern, string).group()",
   "id": "169b2aef3066f526",
   "outputs": [
    {
     "data": {
      "text/plain": [
       "'A'"
      ]
     },
     "execution_count": 44,
     "metadata": {},
     "output_type": "execute_result"
    }
   ],
   "execution_count": 44
  },
  {
   "metadata": {
    "ExecuteTime": {
     "end_time": "2025-03-26T14:24:41.861656Z",
     "start_time": "2025-03-26T14:24:41.858001Z"
    }
   },
   "cell_type": "code",
   "source": "re.search(pattern, 'bac').group()",
   "id": "a3123d1894cc5070",
   "outputs": [
    {
     "data": {
      "text/plain": [
       "'a'"
      ]
     },
     "execution_count": 45,
     "metadata": {},
     "output_type": "execute_result"
    }
   ],
   "execution_count": 45
  },
  {
   "metadata": {
    "ExecuteTime": {
     "end_time": "2025-03-26T14:28:47.600335Z",
     "start_time": "2025-03-26T14:28:47.596820Z"
    }
   },
   "cell_type": "code",
   "source": [
    "src = 'abcde'\n",
    "\n",
    "print(re.match(r'(a)', src).group())\n",
    "print(re.search(r'(a)', src).group())\n",
    "# print(re.match(r'(b)', src).group()) # 报错z\n",
    "print(re.search(r'(b)', src).group())\n",
    "# match 和 search 都成功匹配到了 'a' ，但对于'b' ，match 匹配失败，而 search 匹配成功，说明 match 函数只能从 'a' 这个初始位置开始匹配，如果没有匹配到数据，则不会继续匹配数据\n",
    "# match 和 search 都是只能返回匹配到的第一个数据，但 match 只能从整个字符串的起始位置进行匹配，而 search 会扫描整个字符串，并不会只局限于起始位置；"
   ],
   "id": "7897aac4b061ca8c",
   "outputs": [
    {
     "name": "stdout",
     "output_type": "stream",
     "text": [
      "a\n",
      "a\n",
      "b\n"
     ]
    }
   ],
   "execution_count": 50
  },
  {
   "metadata": {
    "ExecuteTime": {
     "end_time": "2025-03-26T14:41:53.048939Z",
     "start_time": "2025-03-26T14:41:53.044956Z"
    }
   },
   "cell_type": "code",
   "source": [
    "add = 'https://www.net.com.edu//action=?asdfsd and other https://www.baidu.com//a=b'\n",
    "sr = re.search(r'((w{3}\\.)(\\w+\\.)+(com|edu|cn|net))',add)\n",
    "print(sr.group())\n",
    "print(sr.group(0))\n",
    "print(sr.group(1))\n",
    "print(sr.group(2))\n",
    "print(sr.group(3))\n",
    "print(sr.group(4))\n",
    "print(sr.groups())"
   ],
   "id": "ec2a84d91dbfb665",
   "outputs": [
    {
     "name": "stdout",
     "output_type": "stream",
     "text": [
      "www.net.com.edu\n",
      "www.net.com.edu\n",
      "www.net.com.edu\n",
      "www.\n",
      "com.\n",
      "edu\n",
      "('www.net.com.edu', 'www.', 'com.', 'edu')\n"
     ]
    }
   ],
   "execution_count": 71
  },
  {
   "metadata": {},
   "cell_type": "markdown",
   "source": [
    "### **re.findall(pattern, string, flags=0)方法**\n",
    "\n",
    "用于在整个字符串中查找字符串中所有能匹配的字符串，如果匹配成功，则将结果存于列表中，然后返回该列表；否则返回空列表。特殊的地方在于返回的列表中的内容，取决于正则表达式中圆括号的出现情况，也就是分组情况。"
   ],
   "id": "80a20df4aae0974"
  },
  {
   "metadata": {
    "ExecuteTime": {
     "end_time": "2025-03-26T14:31:40.815138Z",
     "start_time": "2025-03-26T14:31:40.811178Z"
    }
   },
   "cell_type": "code",
   "source": [
    "# 1.正则表达式中没有圆括号时，返回列表中的元素由所有成功匹配的子串组成；\n",
    "re.findall(r\"\\d+\",\"12ab34cd56ef\")"
   ],
   "id": "b8bc35f13f35d72d",
   "outputs": [
    {
     "data": {
      "text/plain": [
       "['12', '34', '56']"
      ]
     },
     "execution_count": 51,
     "metadata": {},
     "output_type": "execute_result"
    }
   ],
   "execution_count": 51
  },
  {
   "metadata": {
    "ExecuteTime": {
     "end_time": "2025-03-26T14:33:55.725103Z",
     "start_time": "2025-03-26T14:33:55.720543Z"
    }
   },
   "cell_type": "code",
   "source": [
    "# 2.当正则表达式中含有多个圆括号()时，返回列表中的元素由所有满足匹配的内容组成\n",
    "# 每个元素都是由表达式中所有圆括号匹配的内容组成的元组。而且元组中元素个数与括号对数相同，并且字符串排放顺序跟括号出现的顺序一致（一般看左括号‘ (’就行）\n",
    "re.findall(r\"(a)b(c)\",\"abcabcabc\")"
   ],
   "id": "693380db1bcb6101",
   "outputs": [
    {
     "data": {
      "text/plain": [
       "[('a', 'c'), ('a', 'c'), ('a', 'c')]"
      ]
     },
     "execution_count": 52,
     "metadata": {},
     "output_type": "execute_result"
    }
   ],
   "execution_count": 52
  },
  {
   "metadata": {
    "ExecuteTime": {
     "end_time": "2025-03-27T12:24:37.295549Z",
     "start_time": "2025-03-27T12:24:37.291715Z"
    }
   },
   "cell_type": "code",
   "source": [
    "add = 'https://www.net.com.edu//action=?asdfsd and other https://www.baidu.com//a=b'\n",
    "res = re.findall(r'((w{3}\\.)(\\w+\\.)+(com|edu|cn|net))',add)\n",
    "print(res)"
   ],
   "id": "9f89c0e41a497e69",
   "outputs": [
    {
     "name": "stdout",
     "output_type": "stream",
     "text": [
      "[('www.net.com.edu', 'www.', 'com.', 'edu'), ('www.baidu.com', 'www.', 'baidu.', 'com')]\n"
     ]
    }
   ],
   "execution_count": 74
  },
  {
   "metadata": {
    "ExecuteTime": {
     "end_time": "2025-03-27T12:29:12.454530Z",
     "start_time": "2025-03-27T12:29:12.451345Z"
    }
   },
   "cell_type": "code",
   "source": [
    "for i in re.findall(r'.*?(\\d+).*?','adsd12343.jl34d5645fd789'):\n",
    "    print(i)"
   ],
   "id": "8844489f7e05a81c",
   "outputs": [
    {
     "name": "stdout",
     "output_type": "stream",
     "text": [
      "12343\n",
      "34\n",
      "5645\n",
      "789\n"
     ]
    }
   ],
   "execution_count": 79
  },
  {
   "metadata": {
    "ExecuteTime": {
     "end_time": "2025-03-27T12:33:45.654837Z",
     "start_time": "2025-03-27T12:33:45.649721Z"
    }
   },
   "cell_type": "code",
   "source": [
    "for i in re.finditer(r'[A-Za-z]+','one12two34three56four'):\n",
    "    print(i.group())"
   ],
   "id": "d765715b7b5b701f",
   "outputs": [
    {
     "name": "stdout",
     "output_type": "stream",
     "text": [
      "one\n",
      "two\n",
      "three\n",
      "four\n"
     ]
    }
   ],
   "execution_count": 80
  },
  {
   "metadata": {},
   "cell_type": "markdown",
   "source": [
    "### **pattern.split(string[, maxsplit \\= 0])**\n",
    "函数作用： 分割字符串，将字符串string用给定的正则表达式匹配的字符串进行分割，并返回分割后的结果list。\n",
    "\n",
    "参数说明：\n",
    "- string：被匹配的字符串\n",
    "- maxsplit：用于指定最大分割次数，可选，默认为0，表示全部分割"
   ],
   "id": "68bf369fd1ef919a"
  },
  {
   "metadata": {
    "ExecuteTime": {
     "end_time": "2025-03-27T13:15:19.848747Z",
     "start_time": "2025-03-27T13:15:19.844738Z"
    }
   },
   "cell_type": "code",
   "source": [
    "pattern=re.compile(r\"\\d+\")\n",
    "# 不指定分割次数\n",
    "result=pattern.split(\"one1two2three3four4\")\n",
    "print (result[:-1])\n",
    "\n",
    "# 指定分割次数\n",
    "result1=pattern.split(\"one1two2three3four4\",2)\n",
    "print (result1)"
   ],
   "id": "88eb9915dd865fbf",
   "outputs": [
    {
     "name": "stdout",
     "output_type": "stream",
     "text": [
      "['one', 'two', 'three', 'four', '']\n",
      "['one', 'two', 'three3four4']\n"
     ]
    }
   ],
   "execution_count": 108
  },
  {
   "metadata": {},
   "cell_type": "markdown",
   "source": [
    "### **pattern.sub(repl, string[, count \\= 0])**\n",
    "参数说明：\n",
    "- repl：用于替换的字符串\n",
    "- string：要被替换的字符串\n",
    "- count：替换的次数，如果为0表示替换所有匹配到的字串，如果是1表示替换1次，为2替换2次等，该参数必须是非负整数，默认为0"
   ],
   "id": "1cfe93d0d3b32486"
  },
  {
   "metadata": {
    "ExecuteTime": {
     "end_time": "2025-03-27T13:25:33.068965Z",
     "start_time": "2025-03-27T13:25:33.064683Z"
    }
   },
   "cell_type": "code",
   "source": [
    "s = \"i say, hello world!\"\n",
    "p = re.compile(r'(\\w+)\\s+(\\w+)')\n",
    "s1 = p.sub(r'\\2 \\1', s)\n",
    "print(s1)\n",
    "\n",
    "def func(match):\n",
    "    return match.group(2).title() + ' ' + match.group(1).title()\n",
    "    # return match.group(2) + match.group(2)\n",
    "s2 = p.sub(func, s)\n",
    "print(s2)"
   ],
   "id": "76c51b27c87c9327",
   "outputs": [
    {
     "name": "stdout",
     "output_type": "stream",
     "text": [
      "say i, world hello!\n",
      "Say I, World Hello!\n"
     ]
    }
   ],
   "execution_count": 121
  },
  {
   "metadata": {},
   "cell_type": "markdown",
   "source": "## **特殊字符**",
   "id": "4dd1c52eb429f34"
  },
  {
   "metadata": {},
   "cell_type": "markdown",
   "source": "### **.(点)**",
   "id": "6d230b8eb5c9fc18"
  },
  {
   "metadata": {
    "ExecuteTime": {
     "end_time": "2025-03-26T14:02:50.703467Z",
     "start_time": "2025-03-26T14:02:50.699752Z"
    }
   },
   "cell_type": "code",
   "source": "re.match(r\".\", \"abc\").group()",
   "id": "ddf2e638eec949d0",
   "outputs": [
    {
     "data": {
      "text/plain": [
       "'a'"
      ]
     },
     "execution_count": 15,
     "metadata": {},
     "output_type": "execute_result"
    }
   ],
   "execution_count": 15
  },
  {
   "metadata": {
    "ExecuteTime": {
     "end_time": "2025-03-26T14:02:52.859199Z",
     "start_time": "2025-03-26T14:02:52.855529Z"
    }
   },
   "cell_type": "code",
   "source": "re.match(r\"..\", \"abc\").group()",
   "id": "a91cc2b44bbe7979",
   "outputs": [
    {
     "data": {
      "text/plain": [
       "'ab'"
      ]
     },
     "execution_count": 16,
     "metadata": {},
     "output_type": "execute_result"
    }
   ],
   "execution_count": 16
  },
  {
   "metadata": {
    "ExecuteTime": {
     "end_time": "2025-03-26T14:03:51.047212Z",
     "start_time": "2025-03-26T14:03:51.043817Z"
    }
   },
   "cell_type": "code",
   "source": "re.match(r\"....\", \"abc\").group()",
   "id": "ae6001f9bb36bb25",
   "outputs": [],
   "execution_count": 19
  },
  {
   "metadata": {
    "ExecuteTime": {
     "end_time": "2025-03-26T14:04:03.476388Z",
     "start_time": "2025-03-26T14:04:03.455346Z"
    }
   },
   "cell_type": "code",
   "source": "re.match(r\"..\", \"a\\nc\").group()",
   "id": "820f3215a1b7d91f",
   "outputs": [
    {
     "ename": "AttributeError",
     "evalue": "'NoneType' object has no attribute 'group'",
     "output_type": "error",
     "traceback": [
      "\u001B[31m---------------------------------------------------------------------------\u001B[39m",
      "\u001B[31mAttributeError\u001B[39m                            Traceback (most recent call last)",
      "\u001B[36mCell\u001B[39m\u001B[36m \u001B[39m\u001B[32mIn[20]\u001B[39m\u001B[32m, line 1\u001B[39m\n\u001B[32m----> \u001B[39m\u001B[32m1\u001B[39m \u001B[43mre\u001B[49m\u001B[43m.\u001B[49m\u001B[43mmatch\u001B[49m\u001B[43m(\u001B[49m\u001B[33;43mr\u001B[39;49m\u001B[33;43m\"\u001B[39;49m\u001B[33;43m..\u001B[39;49m\u001B[33;43m\"\u001B[39;49m\u001B[43m,\u001B[49m\u001B[33;43m\"\u001B[39;49m\u001B[33;43ma\u001B[39;49m\u001B[38;5;130;43;01m\\n\u001B[39;49;00m\u001B[33;43mc\u001B[39;49m\u001B[33;43m\"\u001B[39;49m\u001B[43m)\u001B[49m\u001B[43m.\u001B[49m\u001B[43mgroup\u001B[49m()\n",
      "\u001B[31mAttributeError\u001B[39m: 'NoneType' object has no attribute 'group'"
     ]
    }
   ],
   "execution_count": 20
  },
  {
   "metadata": {
    "ExecuteTime": {
     "end_time": "2025-03-26T14:05:21.805605Z",
     "start_time": "2025-03-26T14:05:21.801032Z"
    }
   },
   "cell_type": "code",
   "source": "re.match(r\"..\", \"a\\nc\", re.DOTALL).group()",
   "id": "ad45329a4d6137a",
   "outputs": [
    {
     "data": {
      "text/plain": [
       "'a\\n'"
      ]
     },
     "execution_count": 23,
     "metadata": {},
     "output_type": "execute_result"
    }
   ],
   "execution_count": 23
  },
  {
   "metadata": {
    "ExecuteTime": {
     "end_time": "2025-03-26T14:05:14.019650Z",
     "start_time": "2025-03-26T14:05:14.015719Z"
    }
   },
   "cell_type": "code",
   "source": "re.match(r\"..\", \"a\\nc\", re.S).group()",
   "id": "cb235f78d433da5c",
   "outputs": [
    {
     "data": {
      "text/plain": [
       "'a\\n'"
      ]
     },
     "execution_count": 22,
     "metadata": {},
     "output_type": "execute_result"
    }
   ],
   "execution_count": 22
  },
  {
   "metadata": {},
   "cell_type": "markdown",
   "source": [
    "### **\\A**\n",
    "非多行匹配的时候等价于^，多行匹配的是\\A将整个字符串看作一个整体匹配，而^能够匹配每一行的开头"
   ],
   "id": "c7f31f12e64ef9a0"
  },
  {
   "metadata": {
    "ExecuteTime": {
     "end_time": "2025-03-26T14:09:51.841088Z",
     "start_time": "2025-03-26T14:09:51.836265Z"
    }
   },
   "cell_type": "code",
   "source": "re.findall(r\"\\A\\d\", \"12\\n34\\n565\\n\")",
   "id": "1d075cec4397096f",
   "outputs": [
    {
     "data": {
      "text/plain": [
       "['1']"
      ]
     },
     "execution_count": 24,
     "metadata": {},
     "output_type": "execute_result"
    }
   ],
   "execution_count": 24
  },
  {
   "metadata": {
    "ExecuteTime": {
     "end_time": "2025-03-26T14:10:16.384536Z",
     "start_time": "2025-03-26T14:10:16.380354Z"
    }
   },
   "cell_type": "code",
   "source": "re.findall(r\"\\A\\d\", \"12\\n34\\n565\\n\", re.M)",
   "id": "2c3cd76ebf752713",
   "outputs": [
    {
     "data": {
      "text/plain": [
       "['1']"
      ]
     },
     "execution_count": 25,
     "metadata": {},
     "output_type": "execute_result"
    }
   ],
   "execution_count": 25
  },
  {
   "metadata": {
    "ExecuteTime": {
     "end_time": "2025-03-26T14:10:26.346679Z",
     "start_time": "2025-03-26T14:10:26.342681Z"
    }
   },
   "cell_type": "code",
   "source": "re.findall(r\"\\A\\d+\", \"12\\n34\\n565\\n\", re.M)",
   "id": "e19de4f7610fbca6",
   "outputs": [
    {
     "data": {
      "text/plain": [
       "['12']"
      ]
     },
     "execution_count": 26,
     "metadata": {},
     "output_type": "execute_result"
    }
   ],
   "execution_count": 26
  },
  {
   "metadata": {
    "ExecuteTime": {
     "end_time": "2025-03-26T14:10:48.505760Z",
     "start_time": "2025-03-26T14:10:48.501558Z"
    }
   },
   "cell_type": "code",
   "source": "re.findall(r\"^\\d+\", \"12\\n34\\n565\\n\", re.M)",
   "id": "7b4b25886daacfc",
   "outputs": [
    {
     "data": {
      "text/plain": [
       "['12', '34', '565']"
      ]
     },
     "execution_count": 27,
     "metadata": {},
     "output_type": "execute_result"
    }
   ],
   "execution_count": 27
  },
  {
   "metadata": {
    "ExecuteTime": {
     "end_time": "2025-03-26T14:11:26.864451Z",
     "start_time": "2025-03-26T14:11:26.860963Z"
    }
   },
   "cell_type": "code",
   "source": [
    "re.findall(r\"^\\d+\", \"\"\"\n",
    "ab\n",
    "12\n",
    "234\n",
    "53\n",
    "\"\"\", re.M)"
   ],
   "id": "70e1935b52fa2786",
   "outputs": [
    {
     "data": {
      "text/plain": [
       "['12', '234', '53']"
      ]
     },
     "execution_count": 28,
     "metadata": {},
     "output_type": "execute_result"
    }
   ],
   "execution_count": 28
  },
  {
   "metadata": {},
   "cell_type": "markdown",
   "source": [
    "### **\\Z**\n",
    "非多行匹配时等价于$，多行匹配的是\\Z将整个字符串看作一个整体匹配，而$能够匹配每一行的结尾"
   ],
   "id": "eb22d8bdea8e9f1b"
  },
  {
   "metadata": {
    "ExecuteTime": {
     "end_time": "2025-03-26T14:12:50.003639Z",
     "start_time": "2025-03-26T14:12:49.999337Z"
    }
   },
   "cell_type": "code",
   "source": "re.findall(r\"\\d+$\", \"abc43\")",
   "id": "8519564e50ed92f2",
   "outputs": [
    {
     "data": {
      "text/plain": [
       "['43']"
      ]
     },
     "execution_count": 29,
     "metadata": {},
     "output_type": "execute_result"
    }
   ],
   "execution_count": 29
  },
  {
   "metadata": {
    "ExecuteTime": {
     "end_time": "2025-03-26T14:12:55.320631Z",
     "start_time": "2025-03-26T14:12:55.317110Z"
    }
   },
   "cell_type": "code",
   "source": "re.findall(r\"\\d+\\Z\", \"abc43\")",
   "id": "18e505291cf695e9",
   "outputs": [
    {
     "data": {
      "text/plain": [
       "['43']"
      ]
     },
     "execution_count": 30,
     "metadata": {},
     "output_type": "execute_result"
    }
   ],
   "execution_count": 30
  },
  {
   "metadata": {
    "ExecuteTime": {
     "end_time": "2025-03-26T14:13:00.524306Z",
     "start_time": "2025-03-26T14:13:00.520189Z"
    }
   },
   "cell_type": "code",
   "source": "re.findall(r\"\\d+\\Z\", \"abc43\\new22\\n5\")",
   "id": "aab41d1277109668",
   "outputs": [
    {
     "data": {
      "text/plain": [
       "['5']"
      ]
     },
     "execution_count": 31,
     "metadata": {},
     "output_type": "execute_result"
    }
   ],
   "execution_count": 31
  },
  {
   "metadata": {
    "ExecuteTime": {
     "end_time": "2025-03-26T14:13:30.673909Z",
     "start_time": "2025-03-26T14:13:30.670199Z"
    }
   },
   "cell_type": "code",
   "source": "re.findall(r\"\\d+\\Z\", \"abc43\\new22\\n5\", re.M)",
   "id": "adea534a637dcf24",
   "outputs": [
    {
     "data": {
      "text/plain": [
       "['5']"
      ]
     },
     "execution_count": 32,
     "metadata": {},
     "output_type": "execute_result"
    }
   ],
   "execution_count": 32
  },
  {
   "metadata": {
    "ExecuteTime": {
     "end_time": "2025-03-26T14:13:38.177911Z",
     "start_time": "2025-03-26T14:13:38.173618Z"
    }
   },
   "cell_type": "code",
   "source": "re.findall(r\"\\d+$\", \"abc43\\new22\\n5\", re.M)",
   "id": "550cd683c79c0a7b",
   "outputs": [
    {
     "data": {
      "text/plain": [
       "['43', '22', '5']"
      ]
     },
     "execution_count": 33,
     "metadata": {},
     "output_type": "execute_result"
    }
   ],
   "execution_count": 33
  },
  {
   "metadata": {
    "ExecuteTime": {
     "end_time": "2025-03-26T14:13:46.333190Z",
     "start_time": "2025-03-26T14:13:46.329662Z"
    }
   },
   "cell_type": "code",
   "source": "re.findall(r\"\\d+$\", \"abc43\\new22\\n5\")",
   "id": "421ec461f7d80a92",
   "outputs": [
    {
     "data": {
      "text/plain": [
       "['5']"
      ]
     },
     "execution_count": 34,
     "metadata": {},
     "output_type": "execute_result"
    }
   ],
   "execution_count": 34
  },
  {
   "metadata": {},
   "cell_type": "markdown",
   "source": "## **题目**",
   "id": "5b752c35b54f34eb"
  },
  {
   "metadata": {
    "ExecuteTime": {
     "end_time": "2025-03-27T12:53:39.205341Z",
     "start_time": "2025-03-27T12:53:39.200707Z"
    }
   },
   "cell_type": "code",
   "source": [
    "\"提取字符串中所有的有效的域名地址\"\n",
    "add = 'https://www.net.com.edu//action=?asdfsd and other https://www.baidu.com//a=b'\n",
    "result = re.search(r'http(s?)://www.(\\w+.)+(\\w+)', add)\n",
    "print(result.group())\n",
    "\n",
    "result = re.findall(r'(http(s?)://www(\\.\\w+)+)', add)\n",
    "print(result)\n",
    "\n",
    "pattern=re.compile(r'((w{3}\\.)(\\w+\\.)+(com|edu|cn|net))')\n",
    "result=pattern.findall(add)\n",
    "print (result)\n",
    "\n",
    "add = 'https://www.net.com.edu//action=?asdfsd and other https://www.baidu.com//a=b'\n",
    "pattern=re.compile(r\"https://w{3}\\.\\w+\\.\\w+\\.?\\w+\")\n",
    "result=pattern.findall(add)\n",
    "print (result)"
   ],
   "id": "27618d6a9e1f4ca3",
   "outputs": [
    {
     "name": "stdout",
     "output_type": "stream",
     "text": [
      "https://www.net.com.edu\n",
      "[('https://www.net.com.edu', 's', '.edu'), ('https://www.baidu.com', 's', '.com')]\n",
      "[('www.net.com.edu', 'www.', 'com.', 'edu'), ('www.baidu.com', 'www.', 'baidu.', 'com')]\n",
      "['https://www.net.com.edu', 'https://www.baidu.com']\n"
     ]
    }
   ],
   "execution_count": 100
  },
  {
   "metadata": {
    "ExecuteTime": {
     "end_time": "2025-03-27T13:32:19.780952Z",
     "start_time": "2025-03-27T13:32:19.777273Z"
    }
   },
   "cell_type": "code",
   "source": [
    "# 提取字符串中的ip地址\n",
    "s = \"ip='230.192.168.78',version='1.0.0'\"\n",
    "print(re.search(r'(\\d+.)+\\d+', s).group())"
   ],
   "id": "43c1b9de7084a4fd",
   "outputs": [
    {
     "name": "stdout",
     "output_type": "stream",
     "text": [
      "230.192.168.78\n"
     ]
    }
   ],
   "execution_count": 124
  },
  {
   "metadata": {
    "ExecuteTime": {
     "end_time": "2025-03-27T13:36:49.433079Z",
     "start_time": "2025-03-27T13:36:49.429131Z"
    }
   },
   "cell_type": "code",
   "source": [
    "s =\"phone,number,15817934235\"\n",
    "result = re.search(r'(?P<type1>\\w+),(?P<type2>\\w+),(?P<type3>\\d+)', s)\n",
    "print(result)\n",
    "print(result.group())\n",
    "print(result.group(1), result.group(2), result.group(3))\n",
    "print(result.group('type1'), result.group('type2'), result.group('type3'))"
   ],
   "id": "e082b9de62e722cf",
   "outputs": [
    {
     "name": "stdout",
     "output_type": "stream",
     "text": [
      "<re.Match object; span=(0, 24), match='phone,number,15817934235'>\n",
      "phone,number,15817934235\n",
      "phone number 15817934235\n",
      "phone number 15817934235\n"
     ]
    }
   ],
   "execution_count": 128
  },
  {
   "metadata": {
    "ExecuteTime": {
     "end_time": "2025-03-27T13:38:54.572745Z",
     "start_time": "2025-03-27T13:38:54.568889Z"
    }
   },
   "cell_type": "code",
   "source": [
    "s = 'go go go'\n",
    "res = re.search(r'(?P<name>go)\\s+(?P=name)\\s+(?P=name)', s)\n",
    "print (res.group())\n",
    "print (res.group('name'))\n",
    "res=re.search(r\"(\\w+)\\s(\\1)\\s(\\2)\",s)\n",
    "print (res.group())"
   ],
   "id": "4a03334cbb01bddd",
   "outputs": [
    {
     "name": "stdout",
     "output_type": "stream",
     "text": [
      "go go go\n",
      "go\n",
      "go go go\n"
     ]
    }
   ],
   "execution_count": 130
  },
  {
   "metadata": {
    "ExecuteTime": {
     "end_time": "2025-03-27T13:40:56.002839Z",
     "start_time": "2025-03-27T13:40:55.999690Z"
    }
   },
   "cell_type": "code",
   "source": [
    "# #交换.号两边的字符串\n",
    "s=\"abc.xyz\"\n",
    "print(re.sub(r'(\\w+)\\.(\\w+)', r'\\2.\\1', s))\n",
    "print(re.sub(r'(\\w+)\\.(\\w+)', r'\\2.\\1', s))"
   ],
   "id": "ee06653f59fb6510",
   "outputs": [
    {
     "name": "stdout",
     "output_type": "stream",
     "text": [
      "xyz.abc\n"
     ]
    }
   ],
   "execution_count": 133
  },
  {
   "metadata": {
    "ExecuteTime": {
     "end_time": "2025-03-27T13:42:26.575958Z",
     "start_time": "2025-03-27T13:42:26.572354Z"
    }
   },
   "cell_type": "code",
   "source": [
    "p=re.compile(r\"b(?:.+)a(?:.+)e\")\n",
    "m=p.match(\"babacdefg\")\n",
    "print(m.group())"
   ],
   "id": "6728fe77df2a0cc3",
   "outputs": [
    {
     "name": "stdout",
     "output_type": "stream",
     "text": [
      "babacde\n"
     ]
    }
   ],
   "execution_count": 135
  },
  {
   "metadata": {
    "ExecuteTime": {
     "end_time": "2025-03-27T13:53:29.897573Z",
     "start_time": "2025-03-27T13:53:29.893867Z"
    }
   },
   "cell_type": "code",
   "source": [
    "# 文件名必须以exe为后缀print(m)\n",
    "print(re.search(r'(\\w+)\\.(?=exe$).+', 'abbcdg_bvsda.exe').group(1))\n",
    "# $ 后的 .+ 无意义，匹配不到的"
   ],
   "id": "88a5214d67308c4e",
   "outputs": [
    {
     "name": "stdout",
     "output_type": "stream",
     "text": [
      "abbcdg_bvsda\n"
     ]
    }
   ],
   "execution_count": 154
  },
  {
   "metadata": {
    "ExecuteTime": {
     "end_time": "2025-03-27T13:51:22.976760Z",
     "start_time": "2025-03-27T13:51:22.973481Z"
    }
   },
   "cell_type": "code",
   "source": "print(re.search(r'(\\w+)\\.(?!exe$|txt$).+', 'afe35 hyr.pdf(⊙o⊙)…tsh').group(1))",
   "id": "938ec80b0faeef6d",
   "outputs": [
    {
     "name": "stdout",
     "output_type": "stream",
     "text": [
      "hyr\n"
     ]
    }
   ],
   "execution_count": 148
  },
  {
   "metadata": {
    "ExecuteTime": {
     "end_time": "2025-03-27T13:57:28.752197Z",
     "start_time": "2025-03-27T13:57:28.748744Z"
    }
   },
   "cell_type": "code",
   "source": [
    "print(re.search(r'(?<=www\\.)\\w+\\.\\w+', 'www.baidu.com').group())\n",
    "print(re.search(r'(?<!www\\.)\\w+\\.\\w+', 'blog.baidu.com').group())"
   ],
   "id": "438ae5f709bb95ab",
   "outputs": [
    {
     "name": "stdout",
     "output_type": "stream",
     "text": [
      "baidu.com\n",
      "blog.baidu\n"
     ]
    }
   ],
   "execution_count": 160
  },
  {
   "metadata": {
    "ExecuteTime": {
     "end_time": "2025-03-27T14:10:36.323704Z",
     "start_time": "2025-03-27T14:10:36.320313Z"
    }
   },
   "cell_type": "code",
   "source": [
    "# 匹配邮件格式的正则表达式，可以匹配 <user@fishc.com> 和 'user@fishc.com'，但是不会匹配 '<user@fishc.com' 或 'user@fishc.com>'\n",
    "print(re.fullmatch(r'(?P<start><)?\\w+@\\w+.(com|edu|cn|net)(?(start)>|$)', '<user@fishc.com>').group())\n",
    "print(re.fullmatch(r'(?P<start><)?\\w+@\\w+.(com|edu|cn|net)(?(start)>|$)', 'user@fishc.com').group())"
   ],
   "id": "121bb4144337d2dd",
   "outputs": [
    {
     "name": "stdout",
     "output_type": "stream",
     "text": [
      "<user@fishc.com>\n",
      "user@fishc.com\n"
     ]
    }
   ],
   "execution_count": 178
  },
  {
   "metadata": {
    "ExecuteTime": {
     "end_time": "2025-03-27T14:10:25.165061Z",
     "start_time": "2025-03-27T14:10:25.161552Z"
    }
   },
   "cell_type": "code",
   "source": [
    "print(re.fullmatch(r'(?P<start><)?\\w+@\\w+.(com|edu|cn|net)(?(start)>$|$)', '<user@fishc.com'))\n",
    "print(re.fullmatch(r'(?P<start><)?\\w+@\\w+.(com|edu|cn|net)(?(start)>$|$)', 'user@fishc.com>'))"
   ],
   "id": "2efb7fd0346fd9ce",
   "outputs": [
    {
     "name": "stdout",
     "output_type": "stream",
     "text": [
      "None\n",
      "None\n"
     ]
    }
   ],
   "execution_count": 177
  },
  {
   "metadata": {
    "ExecuteTime": {
     "end_time": "2025-03-27T14:10:22.730610Z",
     "start_time": "2025-03-27T14:10:22.727082Z"
    }
   },
   "cell_type": "code",
   "source": [
    "print(re.fullmatch(r'(<)?(\\w+@\\w+(?:\\.\\w+)+)(?(1)>|$)', '<user@fishc.com'))\n",
    "print(re.fullmatch(r'(<)?(\\w+@\\w+(?:\\.\\w+)+)(?(1)>|$)', 'user@fishc.com>'))"
   ],
   "id": "90251056123ca1c6",
   "outputs": [
    {
     "name": "stdout",
     "output_type": "stream",
     "text": [
      "None\n",
      "None\n"
     ]
    }
   ],
   "execution_count": 176
  },
  {
   "metadata": {
    "ExecuteTime": {
     "end_time": "2025-03-27T14:12:17.679588Z",
     "start_time": "2025-03-27T14:12:17.676310Z"
    }
   },
   "cell_type": "code",
   "source": [
    "p = re.compile(r\"[\\w]\")\n",
    "print(p.findall(\"adb_a b!c\"))"
   ],
   "id": "1c397b90595e4c47",
   "outputs": [
    {
     "name": "stdout",
     "output_type": "stream",
     "text": [
      "['a', 'd', 'b', '_', 'a', 'b', 'c']\n"
     ]
    }
   ],
   "execution_count": 180
  },
  {
   "metadata": {
    "ExecuteTime": {
     "end_time": "2025-03-27T14:12:34.116224Z",
     "start_time": "2025-03-27T14:12:34.112845Z"
    }
   },
   "cell_type": "code",
   "source": [
    "p = re.compile(r\"[^^]\")\n",
    "print(p.findall(\"5a^b512!5\"))"
   ],
   "id": "939110c89beb4833",
   "outputs": [
    {
     "name": "stdout",
     "output_type": "stream",
     "text": [
      "['5', 'a', 'b', '5', '1', '2', '!', '5']\n"
     ]
    }
   ],
   "execution_count": 181
  },
  {
   "metadata": {
    "ExecuteTime": {
     "end_time": "2025-03-27T14:13:49.404936Z",
     "start_time": "2025-03-27T14:13:49.400412Z"
    }
   },
   "cell_type": "code",
   "source": [
    "p = re.compile('o[gh]')\n",
    "print(p.fullmatch(\"ogh\"))\n",
    "print(p.fullmatch(\"og\"))\n",
    "print(p.fullmatch(\"oh\"))\n",
    "print(p.fullmatch(\"dog\"))\n",
    "print(p.fullmatch(\"dog\", 1))"
   ],
   "id": "b925df632959d8e0",
   "outputs": [
    {
     "name": "stdout",
     "output_type": "stream",
     "text": [
      "None\n",
      "<re.Match object; span=(0, 2), match='og'>\n",
      "<re.Match object; span=(0, 2), match='oh'>\n",
      "None\n",
      "<re.Match object; span=(1, 3), match='og'>\n"
     ]
    }
   ],
   "execution_count": 185
  },
  {
   "metadata": {
    "ExecuteTime": {
     "end_time": "2025-03-27T14:15:58.789240Z",
     "start_time": "2025-03-27T14:15:58.785038Z"
    }
   },
   "cell_type": "code",
   "source": [
    "p = re.compile(r\"b(.+)?(.+)(.+)?\")\n",
    "m = p.match(\"babacdefg\")\n",
    "print(m)\n",
    "print(m.groups())\n",
    "print(m.groups(\"no\"))"
   ],
   "id": "639e6e3a99a98330",
   "outputs": [
    {
     "name": "stdout",
     "output_type": "stream",
     "text": [
      "<re.Match object; span=(0, 9), match='babacdefg'>\n",
      "('abacdef', 'g', None)\n",
      "('abacdef', 'g', 'no')\n"
     ]
    }
   ],
   "execution_count": 187
  },
  {
   "metadata": {
    "ExecuteTime": {
     "end_time": "2025-03-27T14:20:16.414252Z",
     "start_time": "2025-03-27T14:20:16.409142Z"
    }
   },
   "cell_type": "code",
   "source": [
    "p = re.compile(r\"er\\b\")\n",
    "print(p.search(\"never\"))\n",
    "print(p.search(\"verb\"))\n",
    "\n",
    "p = re.compile(r\"\\ba\\b\")\n",
    "print(p.search(\"I have a dog\"))"
   ],
   "id": "7a898662cf92ce60",
   "outputs": [
    {
     "name": "stdout",
     "output_type": "stream",
     "text": [
      "<re.Match object; span=(3, 5), match='er'>\n",
      "None\n",
      "<re.Match object; span=(7, 8), match='a'>\n"
     ]
    }
   ],
   "execution_count": 192
  },
  {
   "metadata": {
    "ExecuteTime": {
     "end_time": "2025-03-27T14:19:47.697823Z",
     "start_time": "2025-03-27T14:19:47.693851Z"
    }
   },
   "cell_type": "code",
   "source": [
    "p = re.compile(r\"er\\B\")\n",
    "print(p.search(\"never\"))\n",
    "print(p.search(\"verb\"))\n",
    "\n",
    "p = re.compile(r\"\\Ba\\B\")\n",
    "print(p.search(\"I have a dog\"))"
   ],
   "id": "d8ea6f1b0b33188d",
   "outputs": [
    {
     "name": "stdout",
     "output_type": "stream",
     "text": [
      "None\n",
      "<re.Match object; span=(1, 3), match='er'>\n",
      "<re.Match object; span=(3, 4), match='a'>\n"
     ]
    }
   ],
   "execution_count": 190
  },
  {
   "metadata": {
    "ExecuteTime": {
     "end_time": "2025-03-27T14:28:52.444164Z",
     "start_time": "2025-03-27T14:28:52.440811Z"
    }
   },
   "cell_type": "code",
   "source": [
    "matchStr = 'adsd12343.jl34d5645fd789'\n",
    "# pattern=re.compile(r\".*?(\\d+).*?\")\n",
    "pattern=re.compile(r\"(\\d+)\")\n",
    "result=pattern.findall(matchStr)\n",
    "print (result)"
   ],
   "id": "336ec21f5f1f7e18",
   "outputs": [
    {
     "name": "stdout",
     "output_type": "stream",
     "text": [
      "['12343', '34', '5645', '789']\n"
     ]
    }
   ],
   "execution_count": 195
  },
  {
   "metadata": {},
   "cell_type": "code",
   "outputs": [],
   "execution_count": null,
   "source": "",
   "id": "e0b185d6871b8ca5"
  }
 ],
 "metadata": {
  "kernelspec": {
   "display_name": "Python 3",
   "language": "python",
   "name": "python3"
  },
  "language_info": {
   "codemirror_mode": {
    "name": "ipython",
    "version": 2
   },
   "file_extension": ".py",
   "mimetype": "text/x-python",
   "name": "python",
   "nbconvert_exporter": "python",
   "pygments_lexer": "ipython2",
   "version": "2.7.6"
  }
 },
 "nbformat": 4,
 "nbformat_minor": 5
}
