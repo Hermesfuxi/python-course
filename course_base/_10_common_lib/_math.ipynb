{
 "cells": [
  {
   "cell_type": "code",
   "id": "initial_id",
   "metadata": {
    "collapsed": true,
    "ExecuteTime": {
     "end_time": "2025-03-14T09:11:11.304042Z",
     "start_time": "2025-03-14T09:11:11.300448Z"
    }
   },
   "source": [
    "import math\n",
    "\n",
    "e = math.exp(1)\n",
    "print(e)\n",
    "print(math.modf(e))\n",
    "print(math.frexp(e))"
   ],
   "outputs": [
    {
     "name": "stdout",
     "output_type": "stream",
     "text": [
      "2.718281828459045\n",
      "(0.7182818284590451, 2.0)\n",
      "(0.6795704571147613, 2)\n"
     ]
    }
   ],
   "execution_count": 2
  },
  {
   "metadata": {
    "ExecuteTime": {
     "end_time": "2025-03-14T09:11:13.365285Z",
     "start_time": "2025-03-14T09:11:13.361264Z"
    }
   },
   "cell_type": "code",
   "source": [
    "# Math.log(x)等于ln(x)\n",
    "print(math.log(e))\n",
    "# Math.log1p(x)等于ln(1+x)\n",
    "print(math.log1p(e))\n",
    "\n",
    "print(math.log2(e))\n",
    "print(math.log(e, 2))\n",
    "\n",
    "print(math.log10(e))\n",
    "print(math.log(e, 10))"
   ],
   "id": "f2be302d750b61a2",
   "outputs": [
    {
     "name": "stdout",
     "output_type": "stream",
     "text": [
      "1.0\n",
      "1.3132616875182228\n",
      "1.4426950408889634\n",
      "1.4426950408889634\n",
      "0.4342944819032518\n",
      "0.43429448190325176\n"
     ]
    }
   ],
   "execution_count": 3
  },
  {
   "metadata": {},
   "cell_type": "code",
   "outputs": [],
   "execution_count": null,
   "source": "",
   "id": "3bf7dad0dbdbcb1e"
  }
 ],
 "metadata": {
  "kernelspec": {
   "display_name": "Python 3",
   "language": "python",
   "name": "python3"
  },
  "language_info": {
   "codemirror_mode": {
    "name": "ipython",
    "version": 2
   },
   "file_extension": ".py",
   "mimetype": "text/x-python",
   "name": "python",
   "nbconvert_exporter": "python",
   "pygments_lexer": "ipython2",
   "version": "2.7.6"
  }
 },
 "nbformat": 4,
 "nbformat_minor": 5
}
