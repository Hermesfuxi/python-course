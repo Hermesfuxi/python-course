{
 "cells": [
  {
   "metadata": {
    "collapsed": true,
    "ExecuteTime": {
     "end_time": "2025-03-14T07:53:26.443833Z",
     "start_time": "2025-03-14T07:53:26.439146Z"
    }
   },
   "cell_type": "code",
   "outputs": [
    {
     "name": "stdout",
     "output_type": "stream",
     "text": [
      "False\n",
      "{'d', 'b', 'r'}\n",
      "{'m', 'l', 'z', 'r', 'd', 'a', 'b', 'c'}\n",
      "{'a', 'c'}\n",
      "{'d', 'm', 'l', 'z', 'b', 'r'}\n",
      "['a', 'b', 'c', 'd', 'r']\n",
      "['a', 'c', 'l', 'm', 'z']\n"
     ]
    }
   ],
   "execution_count": 17,
   "source": [
    "a = set('abracadabra')\n",
    "b = set('alacazam')\n",
    "c = set(\"af\")\n",
    "\n",
    "print(c <= a)\n",
    "print(a - b)\n",
    "print(a | b)\n",
    "print(a & b)\n",
    "print(a ^ b)\n",
    "\n",
    "lst_a = list(a)\n",
    "lst_a.sort()\n",
    "print(lst_a)\n",
    "\n",
    "lst_b = list(b)\n",
    "lst_b.sort()\n",
    "print(lst_b)"
   ],
   "id": "initial_id"
  },
  {
   "metadata": {},
   "cell_type": "markdown",
   "source": "#### **集合运算（返回一个新的集合）**",
   "id": "c6b6f591792918c0"
  },
  {
   "metadata": {
    "ExecuteTime": {
     "end_time": "2025-03-14T07:45:55.390106Z",
     "start_time": "2025-03-14T07:45:55.386243Z"
    }
   },
   "cell_type": "code",
   "outputs": [
    {
     "name": "stdout",
     "output_type": "stream",
     "text": [
      "{'m', 'l', 'z', 'r', 'd', 'a', 'b', 'c'}\n",
      "{'m', 'l', 'z', 'r', 'd', 'a', 'b', 'c'}\n",
      "{'a', 'c'}\n",
      "{'a', 'c'}\n",
      "{'d', 'b', 'r'}\n",
      "{'d', 'b', 'r'}\n",
      "{'d', 'm', 'l', 'z', 'b', 'r'}\n",
      "{'d', 'm', 'l', 'z', 'b', 'r'}\n"
     ]
    }
   ],
   "execution_count": 8,
   "source": [
    "a = set('abracadabra')\n",
    "b = set('alacazam')\n",
    "# 并集\n",
    "print(a.union(b))\n",
    "print(a | b)\n",
    "# 交集\n",
    "print(a.intersection(b))\n",
    "print(a & b)\n",
    "# 差集\n",
    "print(a.difference(b))\n",
    "print(a - b)\n",
    "# 集合A⊕B表示对称差运算,也称为异或运算\n",
    "print(a.symmetric_difference(b))\n",
    "print(a ^ b)\n"
   ],
   "id": "c60bc06f2d73ed15"
  },
  {
   "metadata": {},
   "cell_type": "markdown",
   "source": "#### **集合运算（直接操作原集合）**",
   "id": "e13354667f97f193"
  },
  {
   "metadata": {
    "ExecuteTime": {
     "end_time": "2025-03-14T07:59:52.987612Z",
     "start_time": "2025-03-14T07:59:52.982031Z"
    }
   },
   "cell_type": "code",
   "source": [
    "a = set('abracadabra')\n",
    "b = set('alacazam')\n",
    "\n",
    "print(a.union(b))\n",
    "# 更新集合a，添加集合b中的所有元素，并打印更新后的集合a\n",
    "# union()添加元素后，需要一个新的“容器”去“承载”返回值。update() 是对集合的直接修改\n",
    "a.update(b)\n",
    "print(a)\n",
    "\n",
    "a = set('abracadabra')\n",
    "b = set('alacazam')\n",
    "\n",
    "print(a.intersection(b))\n",
    "# 更新集合a，只保留集合b中也存在的元素，并打印更新后的集合a\n",
    "# intersection()添加元素后，需要一个新的“容器”去“承载”返回值。intersection_update() 是对集合的直接修改\n",
    "a.intersection_update(b)\n",
    "print(a)\n",
    "\n",
    "a = set('abracadabra')\n",
    "b = set('alacazam')\n",
    "\n",
    "print(a.difference(b))\n",
    "# 更新集合a，移除集合b中也存在的元素，并打印更新后的集合a。\n",
    "# difference() 移除元素后，需要一个新的“容器”去“承载”返回值。而difference_update() 是对集合的直接修改\n",
    "a.difference_update(b)\n",
    "print(a)\n",
    "\n",
    "a = set('abracadabra')\n",
    "b = set('alacazam')\n",
    "\n",
    "print(a.symmetric_difference(b))\n",
    "# symmetric_difference()计算元素后，需要一个新的“容器”去“承载”返回值。symmetric_difference() 是对集合的直接修改\n",
    "a.symmetric_difference_update(b)\n",
    "print(a)\n"
   ],
   "id": "e72ac53ded966062",
   "outputs": [
    {
     "name": "stdout",
     "output_type": "stream",
     "text": [
      "{'m', 'l', 'z', 'r', 'd', 'a', 'b', 'c'}\n",
      "{'m', 'l', 'z', 'r', 'd', 'a', 'b', 'c'}\n",
      "{'a', 'c'}\n",
      "{'a', 'c'}\n",
      "{'d', 'b', 'r'}\n",
      "{'r', 'd', 'b'}\n",
      "{'d', 'm', 'l', 'z', 'b', 'r'}\n",
      "{'m', 'l', 'z', 'r', 'd', 'b'}\n"
     ]
    }
   ],
   "execution_count": 25
  },
  {
   "metadata": {},
   "cell_type": "markdown",
   "source": "#### **集合判断**",
   "id": "7d33d743b9951055"
  },
  {
   "metadata": {
    "ExecuteTime": {
     "end_time": "2025-03-14T08:05:46.270378Z",
     "start_time": "2025-03-14T08:05:46.266083Z"
    }
   },
   "cell_type": "code",
   "source": [
    "a = set('abracadabra')\n",
    "b = set('alacazam')\n",
    "c = set(\"ar\")\n",
    "\n",
    "# 检查集合a和b是否不相交（即没有共同元素），返回False表示两个集合有交集\n",
    "print(a.isdisjoint(b))\n",
    "\n",
    "# 检查集合a是否是集合b的超集，返回False表示a不是b的超集\n",
    "print(a.issuperset(b))\n",
    "\n",
    "# 检查集合a是否是集合c的子集，返回False表示a不是c的子集\n",
    "print(a.issubset(c))\n"
   ],
   "id": "8d3f98059bdf4315",
   "outputs": [
    {
     "name": "stdout",
     "output_type": "stream",
     "text": [
      "False\n",
      "False\n",
      "False\n"
     ]
    }
   ],
   "execution_count": 28
  },
  {
   "metadata": {},
   "cell_type": "markdown",
   "source": "#### **移除元素**",
   "id": "2dc02172969416db"
  },
  {
   "metadata": {
    "ExecuteTime": {
     "end_time": "2025-03-14T08:10:47.595746Z",
     "start_time": "2025-03-14T08:10:47.571096Z"
    }
   },
   "cell_type": "code",
   "source": [
    "a = {1, 2, 3, 4}\n",
    "\n",
    "# 如果元素存在于集合中，则移除该元素；如果元素不存在于集合中，则不会引发任何错误。\n",
    "a.discard(2)\n",
    "print(a)\n",
    "a.discard(5)\n",
    "\n",
    "# 如果元素存在于集合中，则移除该元素；如果元素不存在于集合中，则会引发 KeyError 异常。\n",
    "a.remove(3)\n",
    "print(a)\n",
    "a.remove(5)"
   ],
   "id": "4d099a3e524e80ec",
   "outputs": [
    {
     "name": "stdout",
     "output_type": "stream",
     "text": [
      "{1, 3, 4}\n",
      "{1, 4}\n"
     ]
    },
    {
     "ename": "KeyError",
     "evalue": "5",
     "output_type": "error",
     "traceback": [
      "\u001B[31m---------------------------------------------------------------------------\u001B[39m",
      "\u001B[31mKeyError\u001B[39m                                  Traceback (most recent call last)",
      "\u001B[36mCell\u001B[39m\u001B[36m \u001B[39m\u001B[32mIn[31]\u001B[39m\u001B[32m, line 11\u001B[39m\n\u001B[32m      9\u001B[39m a.remove(\u001B[32m3\u001B[39m)\n\u001B[32m     10\u001B[39m \u001B[38;5;28mprint\u001B[39m(a)\n\u001B[32m---> \u001B[39m\u001B[32m11\u001B[39m \u001B[43ma\u001B[49m\u001B[43m.\u001B[49m\u001B[43mremove\u001B[49m\u001B[43m(\u001B[49m\u001B[32;43m5\u001B[39;49m\u001B[43m)\u001B[49m\n",
      "\u001B[31mKeyError\u001B[39m: 5"
     ]
    }
   ],
   "execution_count": 31
  },
  {
   "metadata": {},
   "cell_type": "code",
   "outputs": [],
   "execution_count": null,
   "source": "",
   "id": "5a382ff8ea1cff67"
  }
 ],
 "metadata": {
  "kernelspec": {
   "display_name": "Python 3",
   "language": "python",
   "name": "python3"
  },
  "language_info": {
   "codemirror_mode": {
    "name": "ipython",
    "version": 2
   },
   "file_extension": ".py",
   "mimetype": "text/x-python",
   "name": "python",
   "nbconvert_exporter": "python",
   "pygments_lexer": "ipython2",
   "version": "2.7.6"
  }
 },
 "nbformat": 4,
 "nbformat_minor": 5
}
