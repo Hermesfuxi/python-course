{
 "cells": [
  {
   "cell_type": "code",
   "execution_count": 1,
   "id": "initial_id",
   "metadata": {
    "ExecuteTime": {
     "end_time": "2025-03-13T08:35:32.690948Z",
     "start_time": "2025-03-13T08:35:32.687267Z"
    },
    "collapsed": true,
    "jupyter": {
     "outputs_hidden": true
    }
   },
   "outputs": [
    {
     "name": "stdout",
     "output_type": "stream",
     "text": [
      "{'name': 'John', 'age': 30, 'city': 'New York', 'country': 'USA'}\n",
      "<class 'dict'>\n",
      "4\n",
      "John\n"
     ]
    }
   ],
   "source": [
    "dict1 = {\n",
    "    \"name\": \"John\",\n",
    "    \"age\": 30,\n",
    "    \"city\": \"New York\",\n",
    "    \"country\": \"USA\",\n",
    "}\n",
    "\n",
    "print(str(dict1))\n",
    "print(type(dict1))\n",
    "print(len(dict1))\n",
    "print(dict1[\"name\"])"
   ]
  },
  {
   "cell_type": "code",
   "execution_count": 2,
   "id": "dd380853faeae539",
   "metadata": {
    "ExecuteTime": {
     "end_time": "2025-03-13T08:35:37.873451Z",
     "start_time": "2025-03-13T08:35:37.869066Z"
    }
   },
   "outputs": [
    {
     "name": "stdout",
     "output_type": "stream",
     "text": [
      "{'name': 'John', 'age': 30, 'city': 'New York', 'country': 'USA'}\n",
      "{}\n",
      "{'name': 'John', 'age': 30, 'city': 'New York', 'country': 'USA'}\n"
     ]
    }
   ],
   "source": [
    "dict2 = dict1.copy()\n",
    "print(dict2)\n",
    "dict1.clear()\n",
    "print(dict1)\n",
    "print(dict2)"
   ]
  },
  {
   "cell_type": "code",
   "execution_count": 20,
   "id": "bc686477f02a7810",
   "metadata": {
    "ExecuteTime": {
     "end_time": "2025-03-13T08:50:18.066607Z",
     "start_time": "2025-03-13T08:50:18.063031Z"
    }
   },
   "outputs": [
    {
     "name": "stdout",
     "output_type": "stream",
     "text": [
      "John\n",
      "None\n",
      "John\n"
     ]
    }
   ],
   "source": [
    "print(dict2.get('name'))\n",
    "print(dict2.get('name1'))\n",
    "print(dict2.get('name1', 'John'))"
   ]
  },
  {
   "cell_type": "code",
   "execution_count": 28,
   "id": "e246c7d237d88c26",
   "metadata": {
    "ExecuteTime": {
     "end_time": "2025-03-13T08:57:12.095499Z",
     "start_time": "2025-03-13T08:57:12.091826Z"
    }
   },
   "outputs": [
    {
     "name": "stdout",
     "output_type": "stream",
     "text": [
      "dict_keys(['name', 'age', 'city', 'country']) <class 'dict_keys'>\n",
      "dict_values(['John', 30, 'New York', 'USA']) <class 'dict_values'>\n",
      "dict_items([('name', 'John'), ('age', 30), ('city', 'New York'), ('country', 'USA')])\n"
     ]
    }
   ],
   "source": [
    "keys = dict2.keys()\n",
    "values = dict2.values()\n",
    "print(keys, type(keys))\n",
    "print(values, type(values))\n",
    "\n",
    "print(dict2.items())"
   ]
  },
  {
   "cell_type": "code",
   "execution_count": 41,
   "id": "76c0cd4db6e35111",
   "metadata": {
    "ExecuteTime": {
     "end_time": "2025-03-13T09:02:58.333924Z",
     "start_time": "2025-03-13T09:02:58.330438Z"
    }
   },
   "outputs": [],
   "source": [
    "dict3 = dict2.copy()\n",
    "dict2.update({\"name\": \"bill\", \"age\": 35})\n",
    "dict2['location'] = 'Australia'\n",
    "dict2.update(dict3)"
   ]
  },
  {
   "cell_type": "code",
   "execution_count": 45,
   "id": "f5732ec8fa6cd4c1",
   "metadata": {
    "ExecuteTime": {
     "end_time": "2025-03-13T09:03:39.881451Z",
     "start_time": "2025-03-13T09:03:39.876794Z"
    }
   },
   "outputs": [
    {
     "name": "stdout",
     "output_type": "stream",
     "text": [
      "('location', 'Australia')\n",
      "{'age': 30, 'city': 'New York', 'country': 'USA', 'home': 'USA'}\n"
     ]
    }
   ],
   "source": [
    "# print(dict2.pop('name'))\n",
    "# print(dict2)\n",
    "print(dict2.popitem())\n",
    "print(dict2)"
   ]
  },
  {
   "cell_type": "code",
   "execution_count": 46,
   "id": "9829ce654b74171e",
   "metadata": {
    "ExecuteTime": {
     "end_time": "2025-03-13T09:10:33.272986Z",
     "start_time": "2025-03-13T09:10:33.269187Z"
    }
   },
   "outputs": [
    {
     "name": "stdout",
     "output_type": "stream",
     "text": [
      "age 30\n",
      "city New York\n",
      "country USA\n",
      "home USA\n"
     ]
    }
   ],
   "source": [
    "for key in dict2:\n",
    "    print(key, dict2[key])"
   ]
  },
  {
   "cell_type": "code",
   "execution_count": 47,
   "id": "ef981178a4854138",
   "metadata": {
    "ExecuteTime": {
     "end_time": "2025-03-13T09:11:07.932511Z",
     "start_time": "2025-03-13T09:11:07.928682Z"
    }
   },
   "outputs": [
    {
     "name": "stdout",
     "output_type": "stream",
     "text": [
      "age 30\n",
      "city New York\n",
      "country USA\n",
      "home USA\n"
     ]
    }
   ],
   "source": [
    "for key,value in dict2.items():\n",
    "    print(key, value)"
   ]
  },
  {
   "cell_type": "code",
   "execution_count": 50,
   "id": "fdd633de8772ce9c",
   "metadata": {
    "ExecuteTime": {
     "end_time": "2025-03-13T09:12:55.704284Z",
     "start_time": "2025-03-13T09:12:55.701244Z"
    }
   },
   "outputs": [
    {
     "name": "stdout",
     "output_type": "stream",
     "text": [
      "0 age\n",
      "1 city\n",
      "2 country\n",
      "3 home\n"
     ]
    }
   ],
   "source": [
    "for index, items in enumerate(dict2):\n",
    "    print(index, items)"
   ]
  },
  {
   "cell_type": "code",
   "execution_count": 1,
   "id": "a7aed17216f690b0",
   "metadata": {
    "ExecuteTime": {
     "end_time": "2025-03-17T13:00:59.018554Z",
     "start_time": "2025-03-17T13:00:58.998965Z"
    }
   },
   "outputs": [
    {
     "ename": "NameError",
     "evalue": "name 'dict1' is not defined",
     "output_type": "error",
     "traceback": [
      "\u001b[31m---------------------------------------------------------------------------\u001b[39m",
      "\u001b[31mNameError\u001b[39m                                 Traceback (most recent call last)",
      "\u001b[36mCell\u001b[39m\u001b[36m \u001b[39m\u001b[32mIn[1]\u001b[39m\u001b[32m, line 1\u001b[39m\n\u001b[32m----> \u001b[39m\u001b[32m1\u001b[39m \u001b[38;5;28mprint\u001b[39m(\u001b[43mdict1\u001b[49m.items())\n",
      "\u001b[31mNameError\u001b[39m: name 'dict1' is not defined"
     ]
    }
   ],
   "source": [
    "print(dict1.items())"
   ]
  },
  {
   "cell_type": "code",
   "execution_count": null,
   "id": "167880e47c477c4f",
   "metadata": {},
   "outputs": [],
   "source": []
  }
 ],
 "metadata": {
  "kernelspec": {
   "display_name": "Python 3 (ipykernel)",
   "language": "python",
   "name": "python3"
  },
  "language_info": {
   "codemirror_mode": {
    "name": "ipython",
    "version": 3
   },
   "file_extension": ".py",
   "mimetype": "text/x-python",
   "name": "python",
   "nbconvert_exporter": "python",
   "pygments_lexer": "ipython3",
   "version": "3.13.2"
  }
 },
 "nbformat": 4,
 "nbformat_minor": 5
}
