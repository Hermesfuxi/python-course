{
 "cells": [
  {
   "cell_type": "code",
   "id": "initial_id",
   "metadata": {
    "collapsed": true,
    "ExecuteTime": {
     "end_time": "2025-03-13T08:26:34.805350Z",
     "start_time": "2025-03-13T08:26:34.801652Z"
    }
   },
   "source": [
    "tup1=()\n",
    "print(type(tup1))\n",
    "tup2=(1,)\n",
    "print(type(tup2))\n",
    "tup3=(1)\n",
    "print(type(tup3))"
   ],
   "outputs": [
    {
     "name": "stdout",
     "output_type": "stream",
     "text": [
      "<class 'tuple'>\n",
      "<class 'tuple'>\n",
      "<class 'int'>\n"
     ]
    }
   ],
   "execution_count": 2
  },
  {
   "metadata": {
    "ExecuteTime": {
     "end_time": "2025-03-13T08:29:21.899823Z",
     "start_time": "2025-03-13T08:29:21.896715Z"
    }
   },
   "cell_type": "code",
   "source": [
    "tuple2 = ('5', '4', '8')\n",
    "print(len(tuple2))\n",
    "print(max(tuple2))\n",
    "print(min(tuple2))"
   ],
   "id": "51464de4b6c6ef63",
   "outputs": [
    {
     "name": "stdout",
     "output_type": "stream",
     "text": [
      "3\n",
      "8\n",
      "4\n"
     ]
    }
   ],
   "execution_count": 4
  }
 ],
 "metadata": {
  "kernelspec": {
   "display_name": "Python 3",
   "language": "python",
   "name": "python3"
  },
  "language_info": {
   "codemirror_mode": {
    "name": "ipython",
    "version": 2
   },
   "file_extension": ".py",
   "mimetype": "text/x-python",
   "name": "python",
   "nbconvert_exporter": "python",
   "pygments_lexer": "ipython2",
   "version": "2.7.6"
  }
 },
 "nbformat": 4,
 "nbformat_minor": 5
}
