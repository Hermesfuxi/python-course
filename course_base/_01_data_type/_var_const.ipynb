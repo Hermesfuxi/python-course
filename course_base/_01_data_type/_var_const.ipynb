{
 "cells": [
  {
   "metadata": {},
   "cell_type": "markdown",
   "source": [
    "# **变量**\n",
    "\n",
    "在 Python 中，变量是存储值的保留内存位置。\n",
    "\n",
    "它们是个名称，可以分配一个值给它并在整个代码中引用它。使用变量使值可访问并为值提供与你的代码相关的上下文/含义。\n",
    "\n",
    "### 变量规则\n",
    "- 变量区分大小写。\n",
    "- 变量名称只能包含大写和小写字母（A–Z、a–z）、数字（0–9）和下划线（_）。\n",
    "- 它们不能以数字开头。\n",
    "- Python 变量是 动态类型。\n",
    "- Python 支持 Unicode 变量（例如 é 和 ü 等装饰字母，甚至中文、日文和阿拉伯符号）。\n",
    "- 根据 PEP 8 标准，变量名只能是小写，单词可以用下划线分隔（例如 total_price）。\n",
    "\n",
    "### 常量\n",
    "在Python中，常量并没有像C语言中那样通过const关键字来定义。Python中的常量本质上仍然是变量，只是按照惯例，常量的名称全部使用大写字母"
   ],
   "id": "1ab690e24c56ecbb"
  },
  {
   "metadata": {},
   "cell_type": "markdown",
   "source": [
    "## **赋值与内存地址**\n",
    "赋值: 只是复制了新对象的引用，不管赋值对象是否为可变数据类型，赋值均不会开辟新的内存空间"
   ],
   "id": "dfef1d74c4f0e21c"
  },
  {
   "metadata": {},
   "cell_type": "markdown",
   "source": [
    "### **不可变数据类型的赋值**\n",
    "不可变数据类型：string、元组、数值"
   ],
   "id": "758b883a56e62e79"
  },
  {
   "cell_type": "code",
   "id": "initial_id",
   "metadata": {
    "collapsed": true,
    "ExecuteTime": {
     "end_time": "2025-03-14T09:19:57.537853Z",
     "start_time": "2025-03-14T09:19:57.533552Z"
    }
   },
   "source": [
    "# 数值\n",
    "a = 10\n",
    "b = a       # 只是定义了新的变量指向当前地址，赋值均不会开辟新的内存空间\n",
    "print(id(a))\n",
    "print(id(b))\n",
    "\n",
    "a = [4, 5, 6]  # a指向新的内存地址，b仍然指向原来的内存地址\n",
    "print(id(a))    # 输出新的内存地址\n",
    "print(id(b))    # 输出原来的内存地址"
   ],
   "outputs": [
    {
     "name": "stdout",
     "output_type": "stream",
     "text": [
      "140707178108104\n",
      "140707178108104\n",
      "3089811933824\n",
      "140707178108104\n"
     ]
    }
   ],
   "execution_count": 2
  },
  {
   "metadata": {
    "ExecuteTime": {
     "end_time": "2025-03-14T09:29:40.365503Z",
     "start_time": "2025-03-14T09:29:40.360886Z"
    }
   },
   "cell_type": "code",
   "source": [
    "# 元组\n",
    "a = (1, 2, 3)\n",
    "b = a\n",
    "print(id(a))\n",
    "print(id(b))\n",
    "\n",
    "a = [4, 5, 6]\n",
    "print(id(a))\n",
    "print(id(b))"
   ],
   "id": "f6c224d2392909f0",
   "outputs": [
    {
     "name": "stdout",
     "output_type": "stream",
     "text": [
      "3089812181376\n",
      "3089812181376\n",
      "3089811933824\n",
      "3089812181376\n"
     ]
    }
   ],
   "execution_count": 3
  },
  {
   "metadata": {},
   "cell_type": "markdown",
   "source": [
    "### **可变数据类型的赋值**\n",
    "可变数据类型：list、字典、集合"
   ],
   "id": "387e9ef20a234dba"
  },
  {
   "metadata": {
    "ExecuteTime": {
     "end_time": "2025-03-14T09:49:58.919066Z",
     "start_time": "2025-03-14T09:49:58.914985Z"
    }
   },
   "cell_type": "code",
   "source": [
    "a = [1, 2, 3]\n",
    "b = a\n",
    "print(id(a))\n",
    "print(id(b))\n",
    "\n",
    "a.append(4)\n",
    "print(a)\n",
    "print(b)\n",
    "print(id(a))\n",
    "print(id(b))"
   ],
   "id": "bbd6b302fd4f4129",
   "outputs": [
    {
     "name": "stdout",
     "output_type": "stream",
     "text": [
      "3089812479168\n",
      "3089812479168\n",
      "[1, 2, 3, 4] [1, 2, 3, 4]\n",
      "3089812479168 3089812479168\n"
     ]
    }
   ],
   "execution_count": 6
  },
  {
   "metadata": {
    "ExecuteTime": {
     "end_time": "2025-03-14T09:50:09.084706Z",
     "start_time": "2025-03-14T09:50:09.081006Z"
    }
   },
   "cell_type": "code",
   "source": [
    "a[0]=4\n",
    "print(a)\n",
    "print(b)\n",
    "print(id(a))\n",
    "print(id(b))"
   ],
   "id": "e9e604806d0e36f3",
   "outputs": [
    {
     "name": "stdout",
     "output_type": "stream",
     "text": [
      "[4, 2, 3, 4]\n",
      "[4, 2, 3, 4]\n",
      "3089812479168\n",
      "3089812479168\n"
     ]
    }
   ],
   "execution_count": 7
  },
  {
   "metadata": {},
   "cell_type": "markdown",
   "source": "## **浅copy 与 深copy**",
   "id": "938b1e96d316b7b2"
  },
  {
   "metadata": {},
   "cell_type": "markdown",
   "source": [
    "### **不可变数据类型的Copy**\n",
    "**不管是浅copy还是deepcopy，不可变类型没有被copy一说，地址均不变。**"
   ],
   "id": "916de750b564e2de"
  },
  {
   "metadata": {
    "ExecuteTime": {
     "end_time": "2025-03-14T10:03:58.351253Z",
     "start_time": "2025-03-14T10:03:58.347346Z"
    }
   },
   "cell_type": "code",
   "source": [
    "import copy\n",
    "\n",
    "x = (1,2,3)\n",
    "y1 = copy.copy(x)\n",
    "print(id(x))\n",
    "print(id(y1))\n",
    "\n",
    "y2 = copy.deepcopy(x)\n",
    "print(id(y2))"
   ],
   "id": "d8fc7e0d9ddbfbd4",
   "outputs": [
    {
     "name": "stdout",
     "output_type": "stream",
     "text": [
      "3089812217088\n",
      "3089812217088\n",
      "3089812217088\n"
     ]
    }
   ],
   "execution_count": 13
  },
  {
   "metadata": {},
   "cell_type": "markdown",
   "source": "### **可变数据类型的Copy：地址均会发生变化**",
   "id": "823292a898980db9"
  },
  {
   "metadata": {},
   "cell_type": "markdown",
   "source": "#### **直接浅copy**",
   "id": "6feddc39126ef40c"
  },
  {
   "metadata": {
    "ExecuteTime": {
     "end_time": "2025-03-14T10:01:46.969848Z",
     "start_time": "2025-03-14T10:01:46.966223Z"
    }
   },
   "cell_type": "code",
   "source": [
    "x = [1,2,3]\n",
    "y = copy.copy(x)\n",
    "print(id(x))\n",
    "print(id(y))"
   ],
   "id": "fa52c5bed9280c81",
   "outputs": [
    {
     "name": "stdout",
     "output_type": "stream",
     "text": [
      "3089812547200\n",
      "3089812541824\n"
     ]
    }
   ],
   "execution_count": 12
  },
  {
   "metadata": {},
   "cell_type": "markdown",
   "source": "#### **浅copy，原引用表层外围数据（第一层）变化时，备份不变**",
   "id": "7dd9ca7659377cbb"
  },
  {
   "metadata": {
    "ExecuteTime": {
     "end_time": "2025-03-14T10:05:24.991101Z",
     "start_time": "2025-03-14T10:05:24.986176Z"
    }
   },
   "cell_type": "code",
   "source": [
    "x = [1,2,3]\n",
    "y = copy.copy(x)\n",
    "print(id(x))\n",
    "print(id(y))\n",
    "\n",
    "x.append(4)\n",
    "print(x)\n",
    "print(y)\n",
    "print(id(x))\n",
    "print(id(y))"
   ],
   "id": "89ea4c75da7676d",
   "outputs": [
    {
     "name": "stdout",
     "output_type": "stream",
     "text": [
      "3089812008704\n",
      "3089812000384\n",
      "[1, 2, 3, 4]\n",
      "[1, 2, 3]\n",
      "3089812008704\n",
      "3089812000384\n"
     ]
    }
   ],
   "execution_count": 14
  },
  {
   "metadata": {},
   "cell_type": "markdown",
   "source": "#### **浅copy，原引用里层内围数据（非第一层）变化时，备份也变**",
   "id": "d56cb8afffcfa370"
  },
  {
   "metadata": {
    "ExecuteTime": {
     "end_time": "2025-03-14T10:09:37.297179Z",
     "start_time": "2025-03-14T10:09:37.293133Z"
    }
   },
   "cell_type": "code",
   "source": [
    "x = [1,2,[3,4]]\n",
    "y = copy.copy(x)\n",
    "print(id(x))\n",
    "print(id(y))\n",
    "x[2][0] = 5\n",
    "print(x)\n",
    "print(y)\n",
    "print(id(x))\n",
    "print(id(y))"
   ],
   "id": "e5ed127766bf72e3",
   "outputs": [
    {
     "name": "stdout",
     "output_type": "stream",
     "text": [
      "3089812494208\n",
      "3089811941632\n",
      "[1, 2, [5, 4]]\n",
      "[1, 2, [5, 4]]\n",
      "3089812494208\n",
      "3089811941632\n"
     ]
    }
   ],
   "execution_count": 15
  },
  {
   "metadata": {},
   "cell_type": "markdown",
   "source": [
    "#### **深copy，原引用深层内围数据（非第一层）变化时，备份不变**\n",
    "\n",
    "深拷贝遇到可变对象，则又会进行一层对象创建，所以操作被拷贝对象内部的可变对象，不影响拷贝对象内部的值；\n",
    "\n",
    "对于不可变对象，不可变数据类型对于浅copy还是深copy，都不会创建新的内存。\n",
    "\n",
    "所谓深层内围，就是引用的引用。"
   ],
   "id": "4ce9abdb11639c5"
  },
  {
   "metadata": {
    "ExecuteTime": {
     "end_time": "2025-03-14T10:10:35.117038Z",
     "start_time": "2025-03-14T10:10:35.112020Z"
    }
   },
   "cell_type": "code",
   "source": [
    "x = [1,2,[3,4]]\n",
    "y = copy.deepcopy(x)\n",
    "print(id(x))\n",
    "print(id(y))\n",
    "\n",
    "x[2][0] = 5\n",
    "print(x)\n",
    "print(y)\n",
    "print(id(x))\n",
    "print(id(y))"
   ],
   "id": "cc9a7bd6cec50ff2",
   "outputs": [
    {
     "name": "stdout",
     "output_type": "stream",
     "text": [
      "3089811848704\n",
      "3089811838592\n",
      "[1, 2, [5, 4]]\n",
      "[1, 2, [3, 4]]\n",
      "3089811848704\n",
      "3089811838592\n"
     ]
    }
   ],
   "execution_count": 17
  },
  {
   "metadata": {},
   "cell_type": "markdown",
   "source": [
    "## **变量的范围（作用域）**\n",
    "\n",
    "变量的作用域是指变量在程序中可被访问的范围。Python中的变量作用域分为以下几种：\n",
    "\n",
    "- 局部作用域（Local Scope）：在函数或代码块内部定义的变量，只能在函数或代码块内部访问。\n",
    "- 嵌套作用域（Enclosing Scope）：在嵌套函数中，外层函数的变量可以被内层函数访问。\n",
    "- 全局作用域（Global Scope）：在模块级别定义的变量，可以在整个模块中访问。\n",
    "- 内置作用域（Built-in Scope）：Python内置的变量（如print、len等），可以在任何地方访问。\n",
    "\n",
    "作用域规则（LEGB规则）- 查找变量的顺序：\n",
    "- Local：首先在局部作用域查找。\n",
    "- Enclosing：如果局部作用域找不到，则在外层函数的作用域查找。\n",
    "- Global：如果外层函数作用域也找不到，则在全局作用域查找。\n",
    "- Built-in：如果全局作用域也找不到，则在内置作用域查找。"
   ],
   "id": "2352bbb51678abff"
  },
  {
   "metadata": {
    "ExecuteTime": {
     "end_time": "2025-03-14T10:32:50.352966Z",
     "start_time": "2025-03-14T10:32:50.348612Z"
    }
   },
   "cell_type": "code",
   "source": [
    "a1 = 10 #全局变量\n",
    "\n",
    "def outer():\n",
    "    a2=20  # 嵌套作用域变量\n",
    "    def inner():\n",
    "        a3=30\n",
    "        #局部变星\n",
    "        print(a1,a2,a3)#可以访问全局变量a、嵌套变量b和局部变量c\n",
    "    inner()\n",
    "\n",
    "# inner()  # 无法访问 局部变量a3 和 局部函数inner\n",
    "outer()\n",
    "# print(a2)   #无法访问嵌套变量a2\n",
    "print(a1)  #可以访问全局变量a1\n"
   ],
   "id": "883801f84696c6aa",
   "outputs": [
    {
     "name": "stdout",
     "output_type": "stream",
     "text": [
      "10 20 30\n",
      "10\n"
     ]
    }
   ],
   "execution_count": 20
  },
  {
   "metadata": {},
   "cell_type": "code",
   "outputs": [],
   "execution_count": null,
   "source": "",
   "id": "cd8000ecaa79d26e"
  }
 ],
 "metadata": {
  "kernelspec": {
   "display_name": "Python 3",
   "language": "python",
   "name": "python3"
  },
  "language_info": {
   "codemirror_mode": {
    "name": "ipython",
    "version": 2
   },
   "file_extension": ".py",
   "mimetype": "text/x-python",
   "name": "python",
   "nbconvert_exporter": "python",
   "pygments_lexer": "ipython2",
   "version": "2.7.6"
  }
 },
 "nbformat": 4,
 "nbformat_minor": 5
}
