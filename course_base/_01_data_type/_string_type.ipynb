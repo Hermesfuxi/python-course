{
 "cells": [
  {
   "metadata": {},
   "cell_type": "markdown",
   "source": "# **StringType**",
   "id": "6b2fd64e73f5e2dc"
  },
  {
   "metadata": {},
   "cell_type": "markdown",
   "source": "## **一、StringType 格式化**",
   "id": "8d5fe9ee8175e763"
  },
  {
   "metadata": {},
   "cell_type": "markdown",
   "source": "### **1、% 格式化**",
   "id": "9ab62fee341c05ee"
  },
  {
   "metadata": {
    "ExecuteTime": {
     "end_time": "2025-03-14T11:30:48.047843Z",
     "start_time": "2025-03-14T11:30:48.044470Z"
    }
   },
   "cell_type": "code",
   "source": [
    "print(\"它说它叫%s，今年%d岁，每天睡%f小时！\"%(\"旺财\", 2, 8.5))\n",
    "print(\"123用科学\")"
   ],
   "id": "7da7b64b1a376030",
   "outputs": [
    {
     "name": "stdout",
     "output_type": "stream",
     "text": [
      "它说它叫旺财，今年2岁，每天睡8.500000小时！\n"
     ]
    }
   ],
   "execution_count": 4
  },
  {
   "metadata": {},
   "cell_type": "markdown",
   "source": "### **2、format 格式化**",
   "id": "b18b791cd840995a"
  },
  {
   "metadata": {},
   "cell_type": "code",
   "outputs": [],
   "execution_count": null,
   "source": "print((\"开心\"  in '我很难过' or \"难过\" in )",
   "id": "5ec5f945c78739da"
  }
 ],
 "metadata": {
  "kernelspec": {
   "display_name": "Python 3",
   "language": "python",
   "name": "python3"
  },
  "language_info": {
   "codemirror_mode": {
    "name": "ipython",
    "version": 2
   },
   "file_extension": ".py",
   "mimetype": "text/x-python",
   "name": "python",
   "nbconvert_exporter": "python",
   "pygments_lexer": "ipython2",
   "version": "2.7.6"
  }
 },
 "nbformat": 4,
 "nbformat_minor": 5
}
