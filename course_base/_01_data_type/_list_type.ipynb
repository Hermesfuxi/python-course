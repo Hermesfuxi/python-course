{
 "cells": [
  {
   "cell_type": "code",
   "id": "initial_id",
   "metadata": {
    "ExecuteTime": {
     "end_time": "2025-03-13T06:42:53.223061Z",
     "start_time": "2025-03-13T06:42:53.219327Z"
    }
   },
   "source": [
    "lst = [1,2,3,4,5,6,7,8,9,10]\n",
    "del lst[4]\n",
    "print(lst)"
   ],
   "outputs": [
    {
     "name": "stdout",
     "output_type": "stream",
     "text": [
      "[1, 2, 3, 4, 6, 7, 8, 9, 10]\n"
     ]
    }
   ],
   "execution_count": 1
  },
  {
   "cell_type": "code",
   "id": "68da9dd542c5138",
   "metadata": {
    "ExecuteTime": {
     "end_time": "2025-03-13T09:08:42.349308Z",
     "start_time": "2025-03-13T09:08:42.345944Z"
    }
   },
   "source": [
    "lst = [*range(0, 10)]\n",
    "print(type(lst))\n",
    "lst.pop(4)\n",
    "print(lst)"
   ],
   "outputs": [
    {
     "name": "stdout",
     "output_type": "stream",
     "text": [
      "<class 'list'>\n",
      "[0, 1, 2, 3, 5, 6, 7, 8, 9]\n"
     ]
    }
   ],
   "execution_count": 7
  },
  {
   "metadata": {},
   "cell_type": "code",
   "outputs": [],
   "execution_count": null,
   "source": "",
   "id": "c38a30b4dcc9a79e"
  }
 ],
 "metadata": {
  "kernelspec": {
   "display_name": "Python 3 (ipykernel)",
   "language": "python",
   "name": "python3"
  },
  "language_info": {
   "codemirror_mode": {
    "name": "ipython",
    "version": 3
   },
   "file_extension": ".py",
   "mimetype": "text/x-python",
   "name": "python",
   "nbconvert_exporter": "python",
   "pygments_lexer": "ipython3",
   "version": "3.13.2"
  }
 },
 "nbformat": 4,
 "nbformat_minor": 5
}
