{
 "cells": [
  {
   "metadata": {},
   "cell_type": "markdown",
   "source": [
    "## 简答题\n",
    "\n",
    "#### （1）举例说明生活中的案例：分别以面向过程、面向对象方式思考\n",
    "\n",
    "人要洗脏衣服，\n",
    "\n",
    "面向过程：1.人把脏衣服脱掉 2.人打开洗衣机 3.洗衣机开始洗衣服 4.洗衣机甩干 5.人晾衣服\n",
    "\n",
    "面向对象：有两个对象，一个对象是人，功能有脱掉脏衣服，打开洗衣机，晾衣服\n",
    "\n",
    "一个对象是洗衣机，功能有洗衣服，甩干\n",
    "\n",
    "（面向过程是一步一步解决问题，面向对象是功能封装在对象中再调用）\n",
    "\n",
    "\n",
    "\n",
    "#### （2）说一说类和对象是什么？\n",
    "\n",
    "类与对象是抽象与具象的对应关系\n",
    "\n",
    "类就是抽象的集合，比如人类，动物，国家等抽象的概念，可理解为一种模板。\n",
    "\n",
    "对象则是类下的具体衍生，比如某个具体的人（如小明），某个具体的动物（如奶奶家的大黄狗），具体的国家（如中国）。\n",
    "\n",
    "\n",
    "#### （3）尝试使用思维导图总结今天的知识\n",
    "\n",
    "- 面向对象的三个特点：封装，继承，多态\n",
    "    -  封装：私有属性、私有方法，在属性或方法名前面加上 __，格式\n",
    "        - 只能在类的内部使用，不能在类的外部使用，外部只能通过公共接口间接访问，如同Java，通过get/set控制\n",
    "        - 不可继承给子类\n",
    "    -  继承：子类父类的继承，单继承、多继承、super、多层继承\n",
    "        - 类名(object)\n",
    "    -  多态：\n",
    "        -  条件：继承、函数重写、父类引用子类对象\n",
    "    -  其他：对象属性、类属性、类方法、静态方法\n",
    "        - 接口概念：抽象类和抽象方法：方法体是空实现的（pass）为抽象方法，含有抽象方法的类为抽象类\n",
    "        - 类属性：类中直接定义，类名.类属性名\n",
    "        - 类方法：@classmethod修饰，第一个参数必须是类对象（cls）\n",
    "\n",
    "- 魔法函数：Python的自带函数，用于实现一些特定行为（如操作符重载、对象的表现形式转换等），以双下划线开头和结尾，可以自己设定一个默认值，无参数输出默认值，反之输出输入值\n",
    "    -  实现特殊操作：\n",
    "        - __init__： 初始化构造方法， 不同于 Java等语言的多个构造方法，python 只有一个\n",
    "        - __getattr__：属性的访问\n",
    "        - __setattr__：属性的设置\n",
    "        - __del__：用于在对象被销毁之前进行一些清理操作（如关闭文件、释放内存或其他外部资源，避免资源泄漏和内存泄漏的问题）。Python的垃圾回收机制会在对象不再被引用时自动调用__del__方法。具体来说，当对象的引用计数为0时，即没有任何变量引用该对象时；当程序终止时，全局的变量也会被垃圾回收，其引用的对象的__del__方法也会被调用。\n",
    "    - 交互和调试: 方便调试和检查对象状态\n",
    "        - __str__：同Java的 toString() 方法，即 str(obj) 时调用\n",
    "        - __repr__：即 repr(obj) 时调用，返回给定对象的可打印表示形式\n",
    "    - 支持内置函数和协议：\n",
    "        - 可迭代协议：实现诸如 __iter__, __next__, __getitem__ 等方法\n",
    "    - 运算符重载：允许自定义类重载标准的运算符和内置函数（例如+, -, *, len(), str()），使用户定义的对象可以像内置对象一样参与运算。\n",
    "        - __add__(self, other): 定义加法行为，如a + b\n",
    "        - __sub__(self, other): 定义减法行为，如a - b。\n",
    "        - __mul__(self, other): 定义乘法行为，如a * b。\n",
    "        - __truediv__(self, other): 定义真除法行为，如a / b\n"
   ],
   "id": "3042a629c146904b"
  },
  {
   "metadata": {},
   "cell_type": "markdown",
   "source": "## 实操题",
   "id": "b043b0a294b8deb2"
  },
  {
   "metadata": {
    "ExecuteTime": {
     "end_time": "2025-03-21T06:33:41.173637Z",
     "start_time": "2025-03-21T06:33:41.168945Z"
    }
   },
   "cell_type": "code",
   "source": [
    "#（1）定义一个手机类，能开机、能关机、可以拍照。\n",
    "class phone:\n",
    "    def turn_on(self):\n",
    "        print(\"开机\")\n",
    "\n",
    "    def turn_off(self):\n",
    "        print(\"关机\")\n",
    "\n",
    "    def take_photo(self):\n",
    "        print(\"拍照\")\n",
    "\n",
    "\n",
    "ph = phone()\n",
    "ph.turn_on()\n",
    "ph.take_photo()\n",
    "ph.turn_off()"
   ],
   "id": "ca49547222a9a301",
   "outputs": [
    {
     "name": "stdout",
     "output_type": "stream",
     "text": [
      "开机\n",
      "拍照\n",
      "关机\n"
     ]
    }
   ],
   "execution_count": 25
  },
  {
   "metadata": {
    "ExecuteTime": {
     "end_time": "2025-03-21T06:45:01.832183Z",
     "start_time": "2025-03-21T06:45:01.827890Z"
    }
   },
   "cell_type": "code",
   "source": [
    "#（2）定义一个电脑类，并给电脑添加品牌、价格等属性，同时电脑能用于编程、看视频。\n",
    "class computer:\n",
    "    def __init__(self, brand, price):\n",
    "        self.brand = brand\n",
    "        self.price = price\n",
    "\n",
    "    def program(self):\n",
    "        print(f'可以用{self.brand}电脑编程')\n",
    "\n",
    "    def view(self):\n",
    "        print(f'可以用{self.brand}电脑看视频')\n",
    "\n",
    "\n",
    "c1 = computer('华硕', 8000)\n",
    "c1.program()\n",
    "c1.view()"
   ],
   "id": "1ccf123566a3ebb5",
   "outputs": [
    {
     "name": "stdout",
     "output_type": "stream",
     "text": [
      "可以用华硕电脑编程\n",
      "可以用华硕电脑看视频\n"
     ]
    }
   ],
   "execution_count": 33
  },
  {
   "metadata": {
    "ExecuteTime": {
     "end_time": "2025-03-21T06:45:06.241106Z",
     "start_time": "2025-03-21T06:45:06.236322Z"
    }
   },
   "cell_type": "code",
   "source": [
    "#（3）尝试定义一个算法工程师类，同时使用`__init__()`初始化岗位名称、薪资金额等属性，工作内容是每天码代码，同时使用`__str__()`展示对象所拥有的所有信息。\n",
    "class AlgorithmEngineer:\n",
    "    def __init__(self, job_title, Salary, job_description):\n",
    "        self.job_title = job_title\n",
    "        self.Salary = Salary\n",
    "        self.job_description = job_description\n",
    "\n",
    "    def __str__(self):\n",
    "        return f\"职业:{self.job_title}, 薪资: {self.Salary}, 工作内容： {self.job_description}\"\n",
    "\n",
    "\n",
    "ae = AlgorithmEngineer(\"AI大模型算法工程师\", 50000, \"AI工程\")\n",
    "print(ae)"
   ],
   "id": "270198021623c6d5",
   "outputs": [
    {
     "name": "stdout",
     "output_type": "stream",
     "text": [
      "职业:AI大模型算法工程师, 薪资: 50000, 工作内容： AI工程\n"
     ]
    }
   ],
   "execution_count": 34
  },
  {
   "metadata": {
    "ExecuteTime": {
     "end_time": "2025-03-21T06:45:40.109355Z",
     "start_time": "2025-03-21T06:45:40.104460Z"
    }
   },
   "cell_type": "code",
   "source": [
    "#（4）独立编写一遍课堂案例：减肥案例\n",
    "class LoseWeightCase:\n",
    "    def __init__(self, name):\n",
    "        self.current_weight = 90\n",
    "        self.name = name\n",
    "\n",
    "    def run(self):\n",
    "        print(\"跑步中...\")\n",
    "        self.current_weight -= 1\n",
    "\n",
    "    def eat(self):\n",
    "        print(\"大吃一斤\")\n",
    "        self.current_weight += 5\n",
    "\n",
    "    def __str__(self):\n",
    "        return f\"{self.name}当前体重{self.current_weight}\"\n",
    "\n",
    "\n",
    "hermes = LoseWeightCase(\"hermes\")\n",
    "hermes.run()\n",
    "hermes.eat()\n",
    "hermes.run()\n",
    "hermes.run()\n",
    "print(hermes)"
   ],
   "id": "950ff6a210b583ba",
   "outputs": [
    {
     "name": "stdout",
     "output_type": "stream",
     "text": [
      "跑步中...\n",
      "大吃一斤\n",
      "跑步中...\n",
      "跑步中...\n",
      "hermes当前体重92\n"
     ]
    }
   ],
   "execution_count": 35
  },
  {
   "metadata": {
    "ExecuteTime": {
     "end_time": "2025-03-21T06:49:55.354194Z",
     "start_time": "2025-03-21T06:49:55.348010Z"
    }
   },
   "cell_type": "code",
   "source": [
    "#（5）独立编写一遍课堂案例：烤地瓜案例\n",
    "class SweetPotato(object):\n",
    "\n",
    "    def __init__(self):\n",
    "        self.cook_time = 0\n",
    "        self.cook_state = \"生的\"\n",
    "        self.seasoning = []\n",
    "\n",
    "    def cook(self, time):\n",
    "        self.cook_time += time\n",
    "        if self.cook_time < 0:\n",
    "            print(\"传值错误\")\n",
    "        else:\n",
    "            if 0 < self.cook_time < 3:\n",
    "                self.cook_state = \"生的\"\n",
    "            elif 3 <= self.cook_time < 7:\n",
    "                self.cook_state = \"半生不熟\"\n",
    "            elif 7 <= self.cook_time < 12:\n",
    "                self.cook_state = \"熟了\"\n",
    "            else:\n",
    "                self.cook_state = \"已烤焦, 糊了\"\n",
    "\n",
    "    def sweet_seasoning(self, seasoning):\n",
    "        self.seasoning.append(seasoning)\n",
    "\n",
    "    def __str__(self):\n",
    "        return f\"烤的时间: {self.cook_time}, 状态: {self.cook_state}, 添加的调料: {self.seasoning}\"\n",
    "\n",
    "\n",
    "sp = SweetPotato()\n",
    "sp.cook(2)\n",
    "print(sp)\n",
    "sp.cook(6)\n",
    "print(sp)\n",
    "sp.cook(6)\n",
    "sp.sweet_seasoning(\"胡椒\")\n",
    "print(sp)\n",
    "sp.cook(6)\n",
    "print(sp)\n",
    "sp.sweet_seasoning(\"番茄酱\")\n",
    "print(sp)"
   ],
   "id": "f1804e802a63c88",
   "outputs": [
    {
     "name": "stdout",
     "output_type": "stream",
     "text": [
      "烤的时间: 2, 状态: 生的, 添加的调料: []\n",
      "烤的时间: 8, 状态: 熟了, 添加的调料: []\n",
      "烤的时间: 14, 状态: 已烤焦, 糊了, 添加的调料: ['胡椒']\n",
      "烤的时间: 20, 状态: 已烤焦, 糊了, 添加的调料: ['胡椒']\n",
      "烤的时间: 20, 状态: 已烤焦, 糊了, 添加的调料: ['胡椒', '番茄酱']\n"
     ]
    }
   ],
   "execution_count": 36
  },
  {
   "metadata": {
    "collapsed": true,
    "ExecuteTime": {
     "end_time": "2025-03-21T06:50:08.775176Z",
     "start_time": "2025-03-21T06:50:08.770772Z"
    }
   },
   "cell_type": "code",
   "source": [
    "# - 建`Pet`类，属性：`name`（名字）、`age`（年龄，默认为0）。\n",
    "# - 方法：\n",
    "#   - `birthday()`：年龄增加1岁。\n",
    "#     - 打印 xxxx过生日啦！年龄变为xxx 岁\n",
    "#   - `display_info()`：显示宠物的名字和年龄\n",
    "#     - 打印 宠物名字：xxx，年龄：xxx 岁\n",
    "class Pet:\n",
    "    def __init__(self, name, age=0):\n",
    "        self.name = name\n",
    "        self.age = age\n",
    "\n",
    "    def birthday(self):\n",
    "        self.age += 1\n",
    "        print(f'{self.name}过生日啦！年龄变为{self.age} 岁')\n",
    "\n",
    "    def display_info(self):\n",
    "        print(f'宠物名字：{self.name}，年龄：{self.age} 岁')\n",
    "\n",
    "\n",
    "pet1 = Pet('AAA', 2)\n",
    "pet1.birthday()\n",
    "pet1.display_info()"
   ],
   "id": "initial_id",
   "outputs": [
    {
     "name": "stdout",
     "output_type": "stream",
     "text": [
      "AAA过生日啦！年龄变为3 岁\n",
      "宠物名字：AAA，年龄：3 岁\n"
     ]
    }
   ],
   "execution_count": 37
  },
  {
   "metadata": {
    "ExecuteTime": {
     "end_time": "2025-03-21T06:50:11.065716Z",
     "start_time": "2025-03-21T06:50:11.060803Z"
    }
   },
   "cell_type": "code",
   "source": [
    "import math\n",
    "\n",
    "\n",
    "# - 创建`Student`类，属性：`name`、`grades`（成绩列表）。\n",
    "# - 实现`__str__`方法：返回学生姓名和平均成绩。\n",
    "\n",
    "class Student:\n",
    "    def __init__(self, name, grades: dict[str:int]):\n",
    "        self.name = name\n",
    "        self.grades = grades\n",
    "\n",
    "    def __str__(self):\n",
    "        grade_list = self.grades.values()\n",
    "        return f'学生姓名：{self.name}， 平均成绩：{sum(grade_list) / len(grade_list):.2f}'\n",
    "\n",
    "\n",
    "std1 = Student(\"hermesfuxi\", {'数学': 12, '语文': 95, '英语': 98, '物理': 32, '化学': 65, '生物': 69})\n",
    "print(std1.__str__())\n",
    "print(std1)"
   ],
   "id": "c677615e6f1336b9",
   "outputs": [
    {
     "name": "stdout",
     "output_type": "stream",
     "text": [
      "学生姓名：hermesfuxi， 平均成绩：61.83\n",
      "学生姓名：hermesfuxi， 平均成绩：61.83\n"
     ]
    }
   ],
   "execution_count": 38
  },
  {
   "metadata": {
    "ExecuteTime": {
     "end_time": "2025-03-21T06:50:13.398502Z",
     "start_time": "2025-03-21T06:50:13.393826Z"
    }
   },
   "cell_type": "code",
   "source": [
    "# - 创建`Thermometer`类，属性：`current_temp`（当前温度，默认0）。\n",
    "# - 方法：\n",
    "#   - `set_temp(temp)`：设置温度。\n",
    "#   - `__str__`：返回当前温度信息。\n",
    "#   - `__del__`：删除时提示“温度计已销毁”。\n",
    "class Thermometer:\n",
    "    def __init__(self, current_temp: float = 0):\n",
    "        self.current_temp = current_temp\n",
    "\n",
    "    def set_temp(self, temp):\n",
    "        self.current_temp = temp\n",
    "\n",
    "    def __str__(self):\n",
    "        return str(self.current_temp)\n",
    "\n",
    "    def __del__(self):\n",
    "        print('温度计已销毁')\n",
    "\n",
    "\n",
    "t = Thermometer()\n",
    "print(t)\n",
    "t.set_temp(36.5)\n",
    "print(t)\n",
    "del t"
   ],
   "id": "da05d4f8e3cececb",
   "outputs": [
    {
     "name": "stdout",
     "output_type": "stream",
     "text": [
      "0\n",
      "36.5\n",
      "温度计已销毁\n"
     ]
    }
   ],
   "execution_count": 39
  },
  {
   "metadata": {
    "ExecuteTime": {
     "end_time": "2025-03-21T06:50:15.531900Z",
     "start_time": "2025-03-21T06:50:15.526213Z"
    }
   },
   "cell_type": "code",
   "source": [
    "# - 创建`AIAssistant`类，属性：`name`（名字）、`skills`（技能列表，默认包含\"天气查询\"）。\n",
    "# - 方法：\n",
    "#   - `learn_skill(new_skill)`：学习新技能并添加到列表。\n",
    "#   - `execute_skill(skill_name)`：执行技能，若未学习则提示“暂不支持该功能”。\n",
    "#   - `__str__`：返回助手状态，如「小爱 | 已掌握技能：天气查询、播放音乐」。\n",
    "# - 销毁对象时提示“AI助手已离线”。\n",
    "class AIAssistant:\n",
    "    def __init__(self, name):\n",
    "        self.name = name\n",
    "        self.skill_list = []\n",
    "\n",
    "    def learn_skill(self, new_skill):\n",
    "        self.skill_list.append(new_skill)\n",
    "\n",
    "    def execute_skill(self, skill_name):\n",
    "        if skill_name not in self.skill_list:\n",
    "            print(f'对不起，{self.name}暂不支持该功能')\n",
    "        else:\n",
    "            print(f'{skill_name} 的 {skill_name} 功能正在运行')\n",
    "\n",
    "    def __str__(self):\n",
    "        return f'{self.name} | 已掌握技能：{'、'.join(self.skill_list)}'\n",
    "\n",
    "\n",
    "ai = AIAssistant('小爱')\n",
    "ai.learn_skill('math')\n",
    "print(ai)\n",
    "ai.learn_skill('music')\n",
    "print(ai)\n",
    "ai.learn_skill('games')\n",
    "print(ai)\n",
    "ai.execute_skill('math')\n",
    "print(ai)\n",
    "ai.execute_skill('computer')\n",
    "print(ai)"
   ],
   "id": "b6556963a6b206e5",
   "outputs": [
    {
     "name": "stdout",
     "output_type": "stream",
     "text": [
      "小爱 | 已掌握技能：math\n",
      "小爱 | 已掌握技能：math、music\n",
      "小爱 | 已掌握技能：math、music、games\n",
      "math 的 math 功能正在运行\n",
      "小爱 | 已掌握技能：math、music、games\n",
      "对不起，小爱暂不支持该功能\n",
      "小爱 | 已掌握技能：math、music、games\n"
     ]
    }
   ],
   "execution_count": 40
  },
  {
   "metadata": {
    "ExecuteTime": {
     "end_time": "2025-03-21T07:23:23.212850Z",
     "start_time": "2025-03-21T07:23:23.203006Z"
    }
   },
   "cell_type": "code",
   "source": [
    "# 1. 创建`ChatBot`类，属性：`name`（名字）、`dialogue_history`（对话历史列表）、mood\n",
    "# 2. 方法：\n",
    "#   - `reply(message)`：根据用户输入生成回复，若消息含\"开心\"或\"难过\"关键词\n",
    "#     - 开心：我也为您感到高兴！\n",
    "#     - 难过：希望我能帮到您...\n",
    "#     - 如果以上词都不包含：收到您的消息，正在处理中~\n",
    "#   - `show_history()`：显示最近3条对话记录。\n",
    "#   - `__str__`：返回机器人活跃状态，如「AI客服小冰 | 已处理对话：5条」。\n",
    "# 3. 使用`__del__`销毁对象时自动保存对话记录到文件.当销毁对象打印：对话记录已加密保存到【小冰_chat.log】\n",
    "#\n",
    "# 例如：\n",
    "#\n",
    "# 测试一：\n",
    "#\n",
    "# ​ 请输入您的状态：我今天很难过\n",
    "# ​ 😔 希望我能帮到您...\n",
    "#\n",
    "# 测试二：\n",
    "#\n",
    "# ​ 请输入您的状态：我饿了。想吃饭\n",
    "#\n",
    "# ​ 🤖 收到您的消息，正在处理中~\n",
    "# 测试三：调用show_history显示最近3条对话\n",
    "#\n",
    "# 最近对话记录：\n",
    "#  小冰：😔 希望我能帮到您...\n",
    "#  用户：系统出问题了\n",
    "#  小冰：🤖 收到您的消息，正在处理中~\n",
    "#\n",
    "# 测试四：删除对象提示：\n",
    "#\n",
    "# ​ 对话记录已加密保存到【小冰_chat.log】\n",
    "#\n",
    "# 实现以上对话要求\n",
    "import os\n",
    "\n",
    "class ChatBot:\n",
    "    def __init__(self, name):\n",
    "        self.name = name\n",
    "        self.mood = '😀'\n",
    "        self.message_list = []\n",
    "\n",
    "        file_name = f'{self.name}_chat.log'\n",
    "        file_path = rf'.\\{file_name}'\n",
    "        if os.path.exists(file_path):\n",
    "            with open(rf'.\\{file_name}', 'r', encoding='utf-8') as f:\n",
    "                for line in f:\n",
    "                    self.message_list.append(line.strip())\n",
    "\n",
    "    def reply(self, message):\n",
    "        self.message_list.append(f'用户：{message}')\n",
    "        return_str = ''\n",
    "\n",
    "        if \"开心\" in message:\n",
    "            self.mood = '😂'\n",
    "            return_str = '我也为您感到高兴！'\n",
    "        elif '难过' in message:\n",
    "            self.mood = '😔'\n",
    "            return_str = '希望我能帮到您...'\n",
    "        else:\n",
    "            self.mood = '🤖'\n",
    "            return_str = '收到您的消息，正在处理中~'\n",
    "\n",
    "        return_str = f'{self.name}: {self.mood} {return_str}'\n",
    "        self.message_list.append(return_str)\n",
    "        print(return_str)\n",
    "        # return return_str\n",
    "\n",
    "    def show_history(self, message_count=3):\n",
    "        len_lst = len(self.message_list)\n",
    "        start_index = 0 if (start_index := len_lst - message_count) < 0 else start_index\n",
    "        for i in (self.message_list[start_index::]):\n",
    "            print(i)\n",
    "\n",
    "    def __str__(self):\n",
    "        return f'AI客服{self.name} | 已处理对话：{len(self.message_list)}条'\n",
    "\n",
    "    def __del__(self):\n",
    "        file_name = f'{self.name}_chat.log'\n",
    "        with open(rf'.\\{file_name}', 'a') as f:\n",
    "            for line in self.message_list:\n",
    "                f.write(line+'\\n')\n",
    "        print('对话记录已加密保存到【小冰_chat.log】')\n",
    "\n",
    "\n",
    "xiaoyu = ChatBot('小雨')\n",
    "xiaoyu.show_history()\n",
    "print(xiaoyu)\n",
    "xiaoyu.reply('我很难过')\n",
    "print(xiaoyu)\n",
    "xiaoyu.reply('我很开心')\n",
    "xiaoyu.reply('你可以帮我吗')\n",
    "print(xiaoyu)\n",
    "xiaoyu.show_history(5)\n",
    "del xiaoyu"
   ],
   "id": "d947d07fc897e321",
   "outputs": [
    {
     "name": "stdout",
     "output_type": "stream",
     "text": [
      "小雨: 😂 我也为您感到高兴！\n",
      "\n",
      "用户：你可以帮我吗\n",
      "\n",
      "小雨: 🤖 收到您的消息，正在处理中~\n",
      "\n",
      "AI客服小雨 | 已处理对话：24条\n",
      "小雨: 😔 希望我能帮到您...\n",
      "AI客服小雨 | 已处理对话：26条\n",
      "小雨: 😂 我也为您感到高兴！\n",
      "小雨: 🤖 收到您的消息，正在处理中~\n",
      "AI客服小雨 | 已处理对话：30条\n",
      "小雨: 😔 希望我能帮到您...\n",
      "用户：我很开心\n",
      "小雨: 😂 我也为您感到高兴！\n",
      "用户：你可以帮我吗\n",
      "小雨: 🤖 收到您的消息，正在处理中~\n",
      "对话记录已加密保存到【小冰_chat.log】\n"
     ]
    }
   ],
   "execution_count": 50
  }
 ],
 "metadata": {
  "kernelspec": {
   "display_name": "Python 3",
   "language": "python",
   "name": "python3"
  },
  "language_info": {
   "codemirror_mode": {
    "name": "ipython",
    "version": 2
   },
   "file_extension": ".py",
   "mimetype": "text/x-python",
   "name": "python",
   "nbconvert_exporter": "python",
   "pygments_lexer": "ipython2",
   "version": "2.7.6"
  }
 },
 "nbformat": 4,
 "nbformat_minor": 5
}
