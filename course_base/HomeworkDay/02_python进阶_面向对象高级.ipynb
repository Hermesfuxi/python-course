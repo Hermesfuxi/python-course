{
 "cells": [
  {
   "metadata": {},
   "cell_type": "markdown",
   "source": [
    "## **简答题**\n",
    "\n",
    "#### （1）请写出单继承与多继承的语法格式?\n",
    "class A(B):\n",
    "\n",
    "class A(B, C, D):\n",
    "\n",
    "（2）什么是方法重写，为什么要方法重写?\n",
    "方法重写：子类重写父类的方法，方便多态使用\n",
    "\n",
    "（3）尝试使用思维导图总结今日内容\n",
    "见图"
   ],
   "id": "3042a629c146904b"
  },
  {
   "metadata": {},
   "cell_type": "markdown",
   "source": "## 实操题",
   "id": "b043b0a294b8deb2"
  },
  {
   "metadata": {
    "ExecuteTime": {
     "end_time": "2025-03-22T13:22:30.519249Z",
     "start_time": "2025-03-22T13:22:30.513902Z"
    }
   },
   "cell_type": "code",
   "outputs": [
    {
     "name": "stdout",
     "output_type": "stream",
     "text": [
      "马儿跑起来....`\n",
      "狗子跑起来....`\n",
      "马儿吃东西...\n",
      "狗子吃东西...\n"
     ]
    }
   ],
   "execution_count": 1,
   "source": [
    "# 1.创建一个Animal（动物）基类，其中有一个run方法，输出`跑起来....`；\n",
    "class Animal:\n",
    "    def run(self):\n",
    "        print('跑起来....`')\n",
    "\n",
    "    def eat(self):\n",
    "        print('吃东西...`')\n",
    "\n",
    "\n",
    "# 2.创建一个Horse（马）类继承于动物类，Horse类中不仅有run()方法还有eat()方法；\n",
    "\n",
    "class Horse(Animal):\n",
    "    def __init__(self):\n",
    "        self.name = '马儿'\n",
    "\n",
    "    def run(self):\n",
    "        print(f'{self.name}跑起来....`')\n",
    "\n",
    "    def eat(self):\n",
    "        print(f'{self.name}吃东西...')\n",
    "\n",
    "class Dog(Animal):\n",
    "    def __init__(self):\n",
    "        self.name = '狗子'\n",
    "\n",
    "    def run(self):\n",
    "        print(f'{self.name}跑起来....`')\n",
    "\n",
    "    def eat(self):\n",
    "        print(f'{self.name}吃东西...')\n",
    "\n",
    "\n",
    "horse: Animal = Horse()\n",
    "dog: Animal = Dog()\n",
    "horse.run()\n",
    "dog.run()\n",
    "horse.eat()\n",
    "dog.eat()\n"
   ],
   "id": "ca49547222a9a301"
  },
  {
   "metadata": {
    "ExecuteTime": {
     "end_time": "2025-03-22T13:38:59.790146Z",
     "start_time": "2025-03-22T13:38:59.784915Z"
    }
   },
   "cell_type": "code",
   "source": [
    "# 构建对象对战平台object_play\n",
    "# 1 英雄一代战机（战斗力60）与敌军战机（战斗力70）对抗。英雄1代战机失败！\n",
    "# 2 卧薪尝胆，英雄二代战机（战斗力80）出场！，战胜敌军战机！\n",
    "# 3 对象对战平台object_play, 代码不发生变化的情况下, 完成多次战斗\n",
    "def object_play(our_fighter, enemy_fighter):\n",
    "    if our_fighter.fighting_strength > enemy_fighter.fighting_strength:\n",
    "        return f'我方战机{our_fighter.name}胜利'\n",
    "    elif our_fighter.fighting_strength < enemy_fighter.fighting_strength:\n",
    "        return f'敌方战机{enemy_fighter.name}胜利'\n",
    "    else:\n",
    "        return '双方平局'\n",
    "\n",
    "class Fighter:\n",
    "    def __init__(self, name, fighting_strength):\n",
    "        self.name = name\n",
    "        self.fighting_strength = fighting_strength\n",
    "\n",
    "class HeroV1(Fighter):\n",
    "    pass\n",
    "\n",
    "class HeroV2(Fighter):\n",
    "    pass\n",
    "\n",
    "class EnemyFighter(Fighter):\n",
    "    pass\n",
    "\n",
    "J10 = HeroV1('J10', 60)\n",
    "F22 = EnemyFighter('F22', 75)\n",
    "print(object_play(J10, F22))\n",
    "\n",
    "J20 = HeroV2('J20', 80)\n",
    "F35 = EnemyFighter('F35', 70)\n",
    "print(object_play(J20, F35))\n",
    "print(object_play(J10, F35))\n",
    "print(object_play(J20, F22))"
   ],
   "id": "1ccf123566a3ebb5",
   "outputs": [
    {
     "name": "stdout",
     "output_type": "stream",
     "text": [
      "敌方战机F22胜利\n",
      "我方战机J20胜利\n",
      "敌方战机F35胜利\n",
      "我方战机J20胜利\n"
     ]
    }
   ],
   "execution_count": 4
  },
  {
   "metadata": {
    "ExecuteTime": {
     "end_time": "2025-03-22T13:47:11.437666Z",
     "start_time": "2025-03-22T13:47:11.429596Z"
    }
   },
   "cell_type": "code",
   "source": [
    "# 国家部门制定了打印机标准\n",
    "# 1、请抽象父类，制定标准：抽象printer，要求支持黑白打印(Black_white_printing)、彩色打印(color_printing)。\n",
    "# 2、完成打印机hp、小米、佳能（canon）\n",
    "\n",
    "class PrinterStandard:\n",
    "    def Black_white_printing(self):\n",
    "        pass\n",
    "    def color_printing(self):\n",
    "        pass\n",
    "\n",
    "class PrinterHP(PrinterStandard):\n",
    "    def __init__(self):\n",
    "        self.name = 'HP'\n",
    "\n",
    "    def black_white_printing(self):\n",
    "        print(f'打印机{self.name}正在黑白打印')\n",
    "\n",
    "    def color_printing(self):\n",
    "        print(f'打印机{self.name}正在彩色打印')\n",
    "\n",
    "class PrinterXiaomi(PrinterStandard):\n",
    "    def __init__(self):\n",
    "        self.name = 'Xiaomi'\n",
    "\n",
    "    def black_white_printing(self):\n",
    "        print(f'打印机{self.name}正在黑白打印')\n",
    "\n",
    "    def color_printing(self):\n",
    "        print(f'打印机{self.name}正在彩色打印')\n",
    "\n",
    "class PrinterCanon(PrinterStandard):\n",
    "    def __init__(self):\n",
    "        self.name = 'canon'\n",
    "\n",
    "    def black_white_printing(self):\n",
    "        print(f'打印机{self.name}正在黑白打印')\n",
    "\n",
    "    def color_printing(self):\n",
    "        print(f'打印机{self.name}正在彩色打印')\n",
    "\n",
    "hp = PrinterHP()\n",
    "xiaomi = PrinterXiaomi()\n",
    "can = PrinterCanon()\n",
    "lst = [hp, xiaomi, can]\n",
    "for printer in lst:\n",
    "    printer.color_printing()\n",
    "    printer.black_white_printing()"
   ],
   "id": "270198021623c6d5",
   "outputs": [
    {
     "name": "stdout",
     "output_type": "stream",
     "text": [
      "打印机HP正在彩色打印\n",
      "打印机HP正在黑白打印\n",
      "打印机Xiaomi正在彩色打印\n",
      "打印机Xiaomi正在黑白打印\n",
      "打印机canon正在彩色打印\n",
      "打印机canon正在黑白打印\n"
     ]
    }
   ],
   "execution_count": 5
  }
 ],
 "metadata": {
  "kernelspec": {
   "display_name": "Python 3",
   "language": "python",
   "name": "python3"
  },
  "language_info": {
   "codemirror_mode": {
    "name": "ipython",
    "version": 2
   },
   "file_extension": ".py",
   "mimetype": "text/x-python",
   "name": "python",
   "nbconvert_exporter": "python",
   "pygments_lexer": "ipython2",
   "version": "2.7.6"
  }
 },
 "nbformat": 4,
 "nbformat_minor": 5
}
