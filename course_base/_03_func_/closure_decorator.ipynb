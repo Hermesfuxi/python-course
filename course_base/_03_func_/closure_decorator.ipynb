{
 "cells": [
  {
   "metadata": {},
   "cell_type": "markdown",
   "source": [
    "## **闭包**\n",
    "### **闭包的构成条件**\n",
    "- 有嵌套：在函数嵌套（函数里面再定义函数）的前提下\n",
    "- 有变量：内部函数使用了外部函数的变量（参数）\n",
    "- 有引用：外部函数的返回值是内部函数的引用"
   ],
   "id": "f72d401f61755ae3"
  },
  {
   "metadata": {
    "ExecuteTime": {
     "end_time": "2025-03-23T02:47:57.393089Z",
     "start_time": "2025-03-23T02:47:57.388826Z"
    }
   },
   "cell_type": "code",
   "source": [
    "def outer(a):\n",
    "    def inner(b):\n",
    "        nonlocal a\n",
    "        # global a\n",
    "        a = a + b\n",
    "        return a\n",
    "    return inner\n",
    "\n",
    "print(outer(1)(2))\n",
    "inner = outer(10)\n",
    "print(inner(1))\n",
    "print(inner(1))\n",
    "print(inner(1))"
   ],
   "id": "9cae8f4472e4e369",
   "outputs": [
    {
     "name": "stdout",
     "output_type": "stream",
     "text": [
      "3\n",
      "11\n",
      "12\n",
      "13\n"
     ]
    }
   ],
   "execution_count": 8
  },
  {
   "metadata": {
    "ExecuteTime": {
     "end_time": "2025-03-23T03:04:50.720819Z",
     "start_time": "2025-03-23T03:04:50.715672Z"
    }
   },
   "cell_type": "code",
   "source": [
    "def outer1(a):\n",
    "    b = 7\n",
    "    def inner():\n",
    "        c = 11\n",
    "        return a + b + c\n",
    "    return inner\n",
    "\n",
    "inner1 = outer1(10)\n",
    "print(inner1.__closure__)\n",
    "print(inner1.__closure__[0].cell_contents)\n",
    "print(inner1.__closure__[1].cell_contents)"
   ],
   "id": "f9a650e786458337",
   "outputs": [
    {
     "name": "stdout",
     "output_type": "stream",
     "text": [
      "(<cell at 0x0000023AC4A6BE20: int object at 0x00007FFF4A1554C8>, <cell at 0x0000023AC4D1B910: int object at 0x00007FFF4A155468>)\n",
      "['__class__', '__delattr__', '__dir__', '__doc__', '__eq__', '__format__', '__ge__', '__getattribute__', '__getstate__', '__gt__', '__hash__', '__init__', '__init_subclass__', '__le__', '__lt__', '__ne__', '__new__', '__reduce__', '__reduce_ex__', '__repr__', '__setattr__', '__sizeof__', '__str__', '__subclasshook__', 'cell_contents']\n",
      "10\n",
      "7\n"
     ]
    }
   ],
   "execution_count": 18
  },
  {
   "metadata": {
    "ExecuteTime": {
     "end_time": "2025-03-23T03:11:26.974236Z",
     "start_time": "2025-03-23T03:11:26.969119Z"
    }
   },
   "cell_type": "code",
   "source": [
    "def outer():\n",
    "    funcs = []\n",
    "    for k in range(3):\n",
    "        def inner():\n",
    "            return k * k\n",
    "        funcs.append(inner)\n",
    "    return funcs\n",
    "\n",
    "f1, f2, f3 = outer()\n",
    "# 这里的f1, f2, f3都是闭包, 本质上都是inner函数, 且使用了outer函数的变量k,\n",
    "# outer函数在结束时, 将变量k保存到内部函数的__closure__属性中,而k最后为2\n",
    "print(f1.__closure__[0].cell_contents)\n",
    "print(f2.__closure__[0].cell_contents)\n",
    "print(f3.__closure__[0].cell_contents)\n",
    "print(f1())\n",
    "print(f2())\n",
    "print(f3())"
   ],
   "id": "8438bf55a1b22fb6",
   "outputs": [
    {
     "name": "stdout",
     "output_type": "stream",
     "text": [
      "2\n",
      "2\n",
      "2\n",
      "4\n",
      "4\n",
      "4\n"
     ]
    }
   ],
   "execution_count": 19
  },
  {
   "metadata": {},
   "cell_type": "markdown",
   "source": "## **装饰器**",
   "id": "1d7d0d5fb31bec0a"
  },
  {
   "metadata": {},
   "cell_type": "markdown",
   "source": "### **不带参数的函数装饰器**",
   "id": "87e9fe8e30c7f28b"
  },
  {
   "metadata": {
    "ExecuteTime": {
     "end_time": "2025-03-23T03:35:35.639212Z",
     "start_time": "2025-03-23T03:35:35.633850Z"
    }
   },
   "cell_type": "code",
   "source": [
    "import time\n",
    "\n",
    "def timer(func):\n",
    "    def wrapper(*args, **kwargs):\n",
    "        start = time.time()\n",
    "        result = func(*args, **kwargs)\n",
    "        end = time.time()\n",
    "        print(f'{func.__name__}的执行时间：{end - start}s')\n",
    "        return result\n",
    "    return wrapper\n",
    "\n",
    "def time_test_v1():\n",
    "    sum = 0\n",
    "    for i in range(100):\n",
    "        sum += i ** i\n",
    "    print(sum)\n",
    "timer(time_test_v1)()\n",
    "\n",
    "@timer\n",
    "def time_test_v2():\n",
    "    sum = 0\n",
    "    for i in range(100):\n",
    "        sum += i ** i\n",
    "    print(sum)\n",
    "time_test_v2()"
   ],
   "id": "1056c527aca75fcc",
   "outputs": [
    {
     "name": "stdout",
     "output_type": "stream",
     "text": [
      "371115746176445351701210713361941528546861949073514542015172437236580034634746971244943788132460150776779198800002366059871900041784732217539059306483834977865973576751345853385981719448969027641921\n",
      "time_test_v1的执行时间：0.00010919570922851562s\n",
      "371115746176445351701210713361941528546861949073514542015172437236580034634746971244943788132460150776779198800002366059871900041784732217539059306483834977865973576751345853385981719448969027641921\n",
      "time_test_v2的执行时间：9.1552734375e-05s\n"
     ]
    }
   ],
   "execution_count": 27
  },
  {
   "metadata": {},
   "cell_type": "markdown",
   "source": "### **带参数的函数装饰器**",
   "id": "34b9c253eb8725e0"
  },
  {
   "metadata": {
    "ExecuteTime": {
     "end_time": "2025-03-23T03:43:28.830766Z",
     "start_time": "2025-03-23T03:43:28.824986Z"
    }
   },
   "cell_type": "code",
   "source": [
    "import time\n",
    "\n",
    "def timer(username= 'hermesfuxi'):\n",
    "    def decorator(func):\n",
    "        def wrapper(*args, **kwargs):\n",
    "            start = time.time()\n",
    "            result = func(*args, **kwargs)\n",
    "            end = time.time()\n",
    "            print(f'{username}的{func.__name__}函数执行时间：{end - start}s')\n",
    "            return result\n",
    "        return wrapper\n",
    "    return decorator\n",
    "\n",
    "def time_test_v1():\n",
    "    sum = 0\n",
    "    for i in range(100):\n",
    "        sum += i ** i\n",
    "    print(sum)\n",
    "timer('hermes')(time_test_v1)()\n",
    "\n",
    "@timer('hermes')\n",
    "def time_test_v2():\n",
    "    sum = 0\n",
    "    for i in range(100):\n",
    "        sum += i ** i\n",
    "    print(sum)\n",
    "time_test_v2()"
   ],
   "id": "717a5b84b97f2f75",
   "outputs": [
    {
     "name": "stdout",
     "output_type": "stream",
     "text": [
      "371115746176445351701210713361941528546861949073514542015172437236580034634746971244943788132460150776779198800002366059871900041784732217539059306483834977865973576751345853385981719448969027641921\n",
      "hermes的time_test_v1函数执行时间：0.00010991096496582031s\n",
      "371115746176445351701210713361941528546861949073514542015172437236580034634746971244943788132460150776779198800002366059871900041784732217539059306483834977865973576751345853385981719448969027641921\n",
      "hermes的time_test_v2函数执行时间：6.246566772460938e-05s\n"
     ]
    }
   ],
   "execution_count": 28
  },
  {
   "metadata": {},
   "cell_type": "markdown",
   "source": "### **不带参数的类装饰器**",
   "id": "aadbb6470d9f97ea"
  },
  {
   "metadata": {
    "ExecuteTime": {
     "end_time": "2025-03-23T03:47:42.630648Z",
     "start_time": "2025-03-23T03:47:42.624711Z"
    }
   },
   "cell_type": "code",
   "source": [
    "import time\n",
    "\n",
    "class Timer:\n",
    "    def __init__(self, func):\n",
    "        self.func = func\n",
    "\n",
    "    def __call__(self, *args, **kwargs):\n",
    "        start = time.time()\n",
    "        result = self.func(*args, **kwargs)\n",
    "        end = time.time()\n",
    "        print(f'{self.func.__name__}函数执行时间：{end - start}s')\n",
    "        return result\n",
    "\n",
    "def time_test_v1():\n",
    "    sum = 0\n",
    "    for i in range(100):\n",
    "        sum += i ** i\n",
    "    print(sum)\n",
    "Timer(time_test_v1)()\n",
    "\n",
    "@Timer\n",
    "def time_test_v2():\n",
    "    sum = 0\n",
    "    for i in range(100):\n",
    "        sum += i ** i\n",
    "    print(sum)\n",
    "time_test_v2()"
   ],
   "id": "acc0aeb0d8ee758b",
   "outputs": [
    {
     "name": "stdout",
     "output_type": "stream",
     "text": [
      "371115746176445351701210713361941528546861949073514542015172437236580034634746971244943788132460150776779198800002366059871900041784732217539059306483834977865973576751345853385981719448969027641921\n",
      "time_test_v1函数执行时间：0.00015497207641601562s\n",
      "371115746176445351701210713361941528546861949073514542015172437236580034634746971244943788132460150776779198800002366059871900041784732217539059306483834977865973576751345853385981719448969027641921\n",
      "time_test_v2函数执行时间：5.054473876953125e-05s\n"
     ]
    }
   ],
   "execution_count": 30
  },
  {
   "metadata": {},
   "cell_type": "markdown",
   "source": "### **带参数的类装饰器**",
   "id": "58d4f72865932f45"
  },
  {
   "metadata": {
    "ExecuteTime": {
     "end_time": "2025-03-26T01:07:46.090300Z",
     "start_time": "2025-03-26T01:07:46.085198Z"
    }
   },
   "cell_type": "code",
   "source": [
    "import time\n",
    "\n",
    "class Timer:\n",
    "    def __init__(self, name):\n",
    "        self.name = name\n",
    "\n",
    "    def __call__(self, func):\n",
    "        def wrapper(*args, **kwargs):\n",
    "            start = time.time()\n",
    "            result = func(*args, **kwargs)\n",
    "            end = time.time()\n",
    "            print(f'{func.__name__}函数执行时间：{end - start}s')\n",
    "            return result\n",
    "        return wrapper\n",
    "\n",
    "def time_test_v1():\n",
    "    sum = 0\n",
    "    for i in range(100):\n",
    "        sum += i ** i\n",
    "    print(sum)\n",
    "\n",
    "Timer('hermes')(time_test_v1)()\n",
    "\n",
    "@Timer('hermes')\n",
    "def time_test_v2():\n",
    "    sum = 0\n",
    "    for i in range(100):\n",
    "        sum += i ** i\n",
    "    print(sum)\n",
    "\n",
    "time_test_v2()"
   ],
   "id": "1e7bac974ff6f4f5",
   "outputs": [
    {
     "name": "stdout",
     "output_type": "stream",
     "text": [
      "371115746176445351701210713361941528546861949073514542015172437236580034634746971244943788132460150776779198800002366059871900041784732217539059306483834977865973576751345853385981719448969027641921\n",
      "time_test_v1函数执行时间：0.00011014938354492188s\n",
      "371115746176445351701210713361941528546861949073514542015172437236580034634746971244943788132460150776779198800002366059871900041784732217539059306483834977865973576751345853385981719448969027641921\n",
      "time_test_v2函数执行时间：4.863739013671875e-05s\n"
     ]
    }
   ],
   "execution_count": 6
  },
  {
   "metadata": {},
   "cell_type": "code",
   "outputs": [],
   "execution_count": null,
   "source": "",
   "id": "4a0cedfd22862eb7"
  }
 ],
 "metadata": {
  "kernelspec": {
   "display_name": "Python 3",
   "language": "python",
   "name": "python3"
  },
  "language_info": {
   "codemirror_mode": {
    "name": "ipython",
    "version": 2
   },
   "file_extension": ".py",
   "mimetype": "text/x-python",
   "name": "python",
   "nbconvert_exporter": "python",
   "pygments_lexer": "ipython2",
   "version": "2.7.6"
  }
 },
 "nbformat": 4,
 "nbformat_minor": 5
}
