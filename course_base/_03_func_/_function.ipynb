{
 "cells": [
  {
   "cell_type": "code",
   "id": "initial_id",
   "metadata": {
    "collapsed": true,
    "ExecuteTime": {
     "end_time": "2025-03-17T12:52:10.206702Z",
     "start_time": "2025-03-17T12:52:10.203059Z"
    }
   },
   "source": [
    "my_list = [1, 2, 3]\n",
    "my_dict = {'a': 4, 'b': 5, 'c': 6}\n",
    "\n",
    "print(*my_dict)\n",
    "for i in my_dict:\n",
    "    print(i, my_dict[i])"
   ],
   "outputs": [
    {
     "name": "stdout",
     "output_type": "stream",
     "text": [
      "a b c\n",
      "a 4\n",
      "b 5\n",
      "c 6\n"
     ]
    }
   ],
   "execution_count": 7
  },
  {
   "metadata": {
    "ExecuteTime": {
     "end_time": "2025-03-17T12:52:40.043052Z",
     "start_time": "2025-03-17T12:52:40.038471Z"
    }
   },
   "cell_type": "code",
   "source": [
    "x,*y,_ = my_dict\n",
    "print(x)\n",
    "print(y)"
   ],
   "id": "2f7c7745fc846f9d",
   "outputs": [
    {
     "name": "stdout",
     "output_type": "stream",
     "text": [
      "a\n",
      "['b']\n"
     ]
    }
   ],
   "execution_count": 9
  },
  {
   "metadata": {
    "ExecuteTime": {
     "end_time": "2025-03-17T13:01:39.375870Z",
     "start_time": "2025-03-17T13:01:39.372280Z"
    }
   },
   "cell_type": "code",
   "source": "print(my_dict.items())",
   "id": "9d693cbe4f2460c",
   "outputs": [
    {
     "name": "stdout",
     "output_type": "stream",
     "text": [
      "dict_items([('a', 4), ('b', 5), ('c', 6)])\n"
     ]
    }
   ],
   "execution_count": 10
  },
  {
   "metadata": {
    "ExecuteTime": {
     "end_time": "2025-03-20T07:26:58.389079Z",
     "start_time": "2025-03-20T07:26:58.385616Z"
    }
   },
   "cell_type": "code",
   "source": "# print(\"hermesfuxi\"[2:4])",
   "id": "ff97cdcda8b925d3",
   "outputs": [],
   "execution_count": 16
  },
  {
   "metadata": {},
   "cell_type": "code",
   "outputs": [],
   "execution_count": null,
   "source": "",
   "id": "9ad6a8c512a7a95e"
  }
 ],
 "metadata": {
  "kernelspec": {
   "display_name": "Python 3",
   "language": "python",
   "name": "python3"
  },
  "language_info": {
   "codemirror_mode": {
    "name": "ipython",
    "version": 2
   },
   "file_extension": ".py",
   "mimetype": "text/x-python",
   "name": "python",
   "nbconvert_exporter": "python",
   "pygments_lexer": "ipython2",
   "version": "2.7.6"
  }
 },
 "nbformat": 4,
 "nbformat_minor": 5
}
